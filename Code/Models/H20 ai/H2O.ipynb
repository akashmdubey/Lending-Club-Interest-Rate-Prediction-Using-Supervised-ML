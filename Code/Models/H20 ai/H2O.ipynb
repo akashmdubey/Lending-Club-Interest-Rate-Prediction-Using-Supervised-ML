{
 "cells": [
  {
   "cell_type": "code",
   "execution_count": 39,
   "metadata": {
    "collapsed": true
   },
   "outputs": [],
   "source": [
    "import sys\n",
    "import h2o\n",
    "from h2o.estimators.random_forest import H2ORandomForestEstimator\n",
    "from h2o.estimators.glm import H2OGeneralizedLinearEstimator\n",
    "from h2o.grid.grid_search import H2OGridSearch\n",
    "from h2o.estimators.deeplearning import H2ODeepLearningEstimator\n",
    "import numpy as np"
   ]
  },
  {
   "cell_type": "code",
   "execution_count": 40,
   "metadata": {
    "collapsed": true
   },
   "outputs": [],
   "source": [
    "def MAPE(test, predict):\n",
    "    mape = 0\n",
    "\n",
    "    for i, j in zip(test['int_rate'].as_data_frame().values, predict.as_data_frame().values):\n",
    "        mape += np.abs((i-j)/i)\n",
    "\n",
    "    mape = (mape/test.shape[0])*100\n",
    "\n",
    "    return mape\n",
    "\n",
    "\n",
    "    "
   ]
  },
  {
   "cell_type": "code",
   "execution_count": 41,
   "metadata": {
    "scrolled": true
   },
   "outputs": [
    {
     "name": "stdout",
     "output_type": "stream",
     "text": [
      "Checking whether there is an H2O instance running at http://localhost:54321. connected.\n"
     ]
    },
    {
     "data": {
      "text/html": [
       "<div style=\"overflow:auto\"><table style=\"width:50%\"><tr><td>H2O cluster uptime:</td>\n",
       "<td>1 hour 48 mins</td></tr>\n",
       "<tr><td>H2O cluster timezone:</td>\n",
       "<td>America/New_York</td></tr>\n",
       "<tr><td>H2O data parsing timezone:</td>\n",
       "<td>UTC</td></tr>\n",
       "<tr><td>H2O cluster version:</td>\n",
       "<td>3.22.1.6</td></tr>\n",
       "<tr><td>H2O cluster version age:</td>\n",
       "<td>8 days </td></tr>\n",
       "<tr><td>H2O cluster name:</td>\n",
       "<td>H2O_from_python_akshatpant_yl16vs</td></tr>\n",
       "<tr><td>H2O cluster total nodes:</td>\n",
       "<td>1</td></tr>\n",
       "<tr><td>H2O cluster free memory:</td>\n",
       "<td>2.795 Gb</td></tr>\n",
       "<tr><td>H2O cluster total cores:</td>\n",
       "<td>4</td></tr>\n",
       "<tr><td>H2O cluster allowed cores:</td>\n",
       "<td>4</td></tr>\n",
       "<tr><td>H2O cluster status:</td>\n",
       "<td>locked, healthy</td></tr>\n",
       "<tr><td>H2O connection url:</td>\n",
       "<td>http://localhost:54321</td></tr>\n",
       "<tr><td>H2O connection proxy:</td>\n",
       "<td>None</td></tr>\n",
       "<tr><td>H2O internal security:</td>\n",
       "<td>False</td></tr>\n",
       "<tr><td>H2O API Extensions:</td>\n",
       "<td>Amazon S3, XGBoost, Algos, AutoML, Core V3, Core V4</td></tr>\n",
       "<tr><td>Python version:</td>\n",
       "<td>3.6.8 final</td></tr></table></div>"
      ],
      "text/plain": [
       "--------------------------  ---------------------------------------------------\n",
       "H2O cluster uptime:         1 hour 48 mins\n",
       "H2O cluster timezone:       America/New_York\n",
       "H2O data parsing timezone:  UTC\n",
       "H2O cluster version:        3.22.1.6\n",
       "H2O cluster version age:    8 days\n",
       "H2O cluster name:           H2O_from_python_akshatpant_yl16vs\n",
       "H2O cluster total nodes:    1\n",
       "H2O cluster free memory:    2.795 Gb\n",
       "H2O cluster total cores:    4\n",
       "H2O cluster allowed cores:  4\n",
       "H2O cluster status:         locked, healthy\n",
       "H2O connection url:         http://localhost:54321\n",
       "H2O connection proxy:\n",
       "H2O internal security:      False\n",
       "H2O API Extensions:         Amazon S3, XGBoost, Algos, AutoML, Core V3, Core V4\n",
       "Python version:             3.6.8 final\n",
       "--------------------------  ---------------------------------------------------"
      ]
     },
     "metadata": {},
     "output_type": "display_data"
    }
   ],
   "source": [
    "h2o.init()"
   ]
  },
  {
   "cell_type": "code",
   "execution_count": 42,
   "metadata": {
    "scrolled": true
   },
   "outputs": [
    {
     "name": "stdout",
     "output_type": "stream",
     "text": [
      "Parse progress: |█████████████████████████████████████████████████████████| 100%\n"
     ]
    },
    {
     "data": {
      "text/html": [
       "<table>\n",
       "<thead>\n",
       "<tr><th style=\"text-align: right;\">  loan_amnt</th><th style=\"text-align: right;\">  funded_amnt</th><th style=\"text-align: right;\">  funded_amnt_inv</th><th style=\"text-align: right;\">       term</th><th style=\"text-align: right;\">  installment</th><th style=\"text-align: right;\">  emp_length</th><th style=\"text-align: right;\">  annual_inc</th><th style=\"text-align: right;\">  issue_month</th><th style=\"text-align: right;\">  issue_year</th><th style=\"text-align: right;\">        dti</th><th style=\"text-align: right;\">  delinq_2yrs</th><th style=\"text-align: right;\">  inq_last_6mths</th><th style=\"text-align: right;\">   open_acc</th><th style=\"text-align: right;\">  pub_rec</th><th style=\"text-align: right;\">  revol_bal</th><th style=\"text-align: right;\">  revol_util</th><th style=\"text-align: right;\">  total_acc</th><th style=\"text-align: right;\">  out_prncp</th><th style=\"text-align: right;\">  out_prncp_inv</th><th style=\"text-align: right;\">  total_pymnt</th><th style=\"text-align: right;\">  total_pymnt_inv</th><th style=\"text-align: right;\">  total_rec_prncp</th><th style=\"text-align: right;\">  total_rec_int</th><th style=\"text-align: right;\">  total_rec_late_fee</th><th style=\"text-align: right;\">  recoveries</th><th style=\"text-align: right;\">  collection_recovery_fee</th><th style=\"text-align: right;\">  last_pymnt_amnt</th><th style=\"text-align: right;\">  collections_12_mths_ex_med</th><th style=\"text-align: right;\">  acc_now_delinq</th><th style=\"text-align: right;\">  tot_coll_amt</th><th style=\"text-align: right;\">  tot_cur_bal</th><th style=\"text-align: right;\">  total_rev_hi_lim</th><th style=\"text-align: right;\">  application_type_JOINT</th><th style=\"text-align: right;\">  grade_B</th><th style=\"text-align: right;\">  grade_C</th><th style=\"text-align: right;\">  grade_D</th><th style=\"text-align: right;\">  grade_E</th><th style=\"text-align: right;\">  grade_F</th><th style=\"text-align: right;\">  grade_G</th><th style=\"text-align: right;\">  sub_grade_A2</th><th style=\"text-align: right;\">  sub_grade_A3</th><th style=\"text-align: right;\">  sub_grade_A4</th><th style=\"text-align: right;\">  sub_grade_A5</th><th style=\"text-align: right;\">  sub_grade_B1</th><th style=\"text-align: right;\">  sub_grade_B2</th><th style=\"text-align: right;\">  sub_grade_B3</th><th style=\"text-align: right;\">  sub_grade_B4</th><th style=\"text-align: right;\">  sub_grade_B5</th><th style=\"text-align: right;\">  sub_grade_C1</th><th style=\"text-align: right;\">  sub_grade_C2</th><th style=\"text-align: right;\">  sub_grade_C3</th><th style=\"text-align: right;\">  sub_grade_C4</th><th style=\"text-align: right;\">  sub_grade_C5</th><th style=\"text-align: right;\">  sub_grade_D1</th><th style=\"text-align: right;\">  sub_grade_D2</th><th style=\"text-align: right;\">  sub_grade_D3</th><th style=\"text-align: right;\">  sub_grade_D4</th><th style=\"text-align: right;\">  sub_grade_D5</th><th style=\"text-align: right;\">  sub_grade_E1</th><th style=\"text-align: right;\">  sub_grade_E2</th><th style=\"text-align: right;\">  sub_grade_E3</th><th style=\"text-align: right;\">  sub_grade_E4</th><th style=\"text-align: right;\">  sub_grade_E5</th><th style=\"text-align: right;\">  sub_grade_F1</th><th style=\"text-align: right;\">  sub_grade_F2</th><th style=\"text-align: right;\">  sub_grade_F3</th><th style=\"text-align: right;\">  sub_grade_F4</th><th style=\"text-align: right;\">  sub_grade_F5</th><th style=\"text-align: right;\">  sub_grade_G1</th><th style=\"text-align: right;\">  sub_grade_G2</th><th style=\"text-align: right;\">  sub_grade_G3</th><th style=\"text-align: right;\">  sub_grade_G4</th><th style=\"text-align: right;\">  sub_grade_G5</th><th style=\"text-align: right;\">  home_ownership_MORTGAGE</th><th style=\"text-align: right;\">  home_ownership_NONE</th><th style=\"text-align: right;\">  home_ownership_OTHER</th><th style=\"text-align: right;\">  home_ownership_OWN</th><th style=\"text-align: right;\">  home_ownership_RENT</th><th style=\"text-align: right;\">  verification_status_Source_Verified</th><th style=\"text-align: right;\">  verification_status_Verified</th><th style=\"text-align: right;\">  loan_status_Current</th><th style=\"text-align: right;\">  loan_status_Default</th><th style=\"text-align: right;\">  loan_status_Does_not_meet_the_credit_policy_Status_Charged_Off</th><th style=\"text-align: right;\">  loan_status_Does_not_meet_the_credit_policy_Status_Fully_Paid</th><th style=\"text-align: right;\">  loan_status_Fully_Paid</th><th style=\"text-align: right;\">  loan_status_In_Grace_Period</th><th style=\"text-align: right;\">  loan_status_Issued</th><th style=\"text-align: right;\">  loan_status_Late_16_30_days</th><th style=\"text-align: right;\">  loan_status_Late_31_120_days</th><th style=\"text-align: right;\">  pymnt_plan_y</th><th style=\"text-align: right;\">  initial_list_status_w</th><th style=\"text-align: right;\">  int_rate</th></tr>\n",
       "</thead>\n",
       "<tbody>\n",
       "<tr><td style=\"text-align: right;\">  0.119293 </td><td style=\"text-align: right;\">    0.119293 </td><td style=\"text-align: right;\">        0.118696 </td><td style=\"text-align: right;\">0.000858908</td><td style=\"text-align: right;\">  0.00388584 </td><td style=\"text-align: right;\"> 0.000238586</td><td style=\"text-align: right;\">    0.572605</td><td style=\"text-align: right;\">  0.000286303</td><td style=\"text-align: right;\">   0.0479796</td><td style=\"text-align: right;\">0.000659689</td><td style=\"text-align: right;\">            0</td><td style=\"text-align: right;\">     2.39e-05   </td><td style=\"text-align: right;\">7.16e-05   </td><td style=\"text-align: right;\">        0</td><td style=\"text-align: right;\">  0.325622 </td><td style=\"text-align: right;\"> 0.00199696 </td><td style=\"text-align: right;\">0.000214727</td><td style=\"text-align: right;\"> 0         </td><td style=\"text-align: right;\">     0         </td><td style=\"text-align: right;\">    0.139837 </td><td style=\"text-align: right;\">        0.139138 </td><td style=\"text-align: right;\">       0.119293  </td><td style=\"text-align: right;\">     0.0205439 </td><td style=\"text-align: right;\">         0          </td><td style=\"text-align: right;\">  0         </td><td style=\"text-align: right;\">                 0       </td><td style=\"text-align: right;\">      0.00409461 </td><td style=\"text-align: right;\">                           0</td><td style=\"text-align: right;\">               0</td><td style=\"text-align: right;\">    0         </td><td style=\"text-align: right;\">    0.651577 </td><td style=\"text-align: right;\">         0.207569 </td><td style=\"text-align: right;\">                       0</td><td style=\"text-align: right;\">        1</td><td style=\"text-align: right;\">        0</td><td style=\"text-align: right;\">        0</td><td style=\"text-align: right;\">        0</td><td style=\"text-align: right;\">        0</td><td style=\"text-align: right;\">        0</td><td style=\"text-align: right;\">             0</td><td style=\"text-align: right;\">             0</td><td style=\"text-align: right;\">             0</td><td style=\"text-align: right;\">             0</td><td style=\"text-align: right;\">             0</td><td style=\"text-align: right;\">             1</td><td style=\"text-align: right;\">             0</td><td style=\"text-align: right;\">             0</td><td style=\"text-align: right;\">             0</td><td style=\"text-align: right;\">             0</td><td style=\"text-align: right;\">             0</td><td style=\"text-align: right;\">             0</td><td style=\"text-align: right;\">             0</td><td style=\"text-align: right;\">             0</td><td style=\"text-align: right;\">             0</td><td style=\"text-align: right;\">             0</td><td style=\"text-align: right;\">             0</td><td style=\"text-align: right;\">             0</td><td style=\"text-align: right;\">             0</td><td style=\"text-align: right;\">             0</td><td style=\"text-align: right;\">             0</td><td style=\"text-align: right;\">             0</td><td style=\"text-align: right;\">             0</td><td style=\"text-align: right;\">             0</td><td style=\"text-align: right;\">             0</td><td style=\"text-align: right;\">             0</td><td style=\"text-align: right;\">             0</td><td style=\"text-align: right;\">             0</td><td style=\"text-align: right;\">             0</td><td style=\"text-align: right;\">             0</td><td style=\"text-align: right;\">             0</td><td style=\"text-align: right;\">             0</td><td style=\"text-align: right;\">             0</td><td style=\"text-align: right;\">             0</td><td style=\"text-align: right;\">                        0</td><td style=\"text-align: right;\">                    0</td><td style=\"text-align: right;\">                     0</td><td style=\"text-align: right;\">                   0</td><td style=\"text-align: right;\">                    1</td><td style=\"text-align: right;\">                                    0</td><td style=\"text-align: right;\">                             1</td><td style=\"text-align: right;\">                    0</td><td style=\"text-align: right;\">                    0</td><td style=\"text-align: right;\">                                                               0</td><td style=\"text-align: right;\">                                                              0</td><td style=\"text-align: right;\">                       1</td><td style=\"text-align: right;\">                            0</td><td style=\"text-align: right;\">                   0</td><td style=\"text-align: right;\">                            0</td><td style=\"text-align: right;\">                             0</td><td style=\"text-align: right;\">             0</td><td style=\"text-align: right;\">                      0</td><td style=\"text-align: right;\">     10.65</td></tr>\n",
       "<tr><td style=\"text-align: right;\">  0.0673226</td><td style=\"text-align: right;\">    0.0673226</td><td style=\"text-align: right;\">        0.0673226</td><td style=\"text-align: right;\">0.00161574 </td><td style=\"text-align: right;\">  0.00161116 </td><td style=\"text-align: right;\"> 0          </td><td style=\"text-align: right;\">    0.807871</td><td style=\"text-align: right;\">  0.000323149</td><td style=\"text-align: right;\">   0.0541543</td><td style=\"text-align: right;\">2.69e-05   </td><td style=\"text-align: right;\">            0</td><td style=\"text-align: right;\">     0.000134645</td><td style=\"text-align: right;\">8.08e-05   </td><td style=\"text-align: right;\">        0</td><td style=\"text-align: right;\">  0.0454293</td><td style=\"text-align: right;\"> 0.000253133</td><td style=\"text-align: right;\">0.000107716</td><td style=\"text-align: right;\"> 0         </td><td style=\"text-align: right;\">     0         </td><td style=\"text-align: right;\">    0.0271636</td><td style=\"text-align: right;\">        0.0271636</td><td style=\"text-align: right;\">       0.012292  </td><td style=\"text-align: right;\">     0.0117187 </td><td style=\"text-align: right;\">         0          </td><td style=\"text-align: right;\">  0.00315285</td><td style=\"text-align: right;\">                 2.99e-05</td><td style=\"text-align: right;\">      0.00322233 </td><td style=\"text-align: right;\">                           0</td><td style=\"text-align: right;\">               0</td><td style=\"text-align: right;\">    0         </td><td style=\"text-align: right;\">    0.127401 </td><td style=\"text-align: right;\">         0.557431 </td><td style=\"text-align: right;\">                       0</td><td style=\"text-align: right;\">        0</td><td style=\"text-align: right;\">        1</td><td style=\"text-align: right;\">        0</td><td style=\"text-align: right;\">        0</td><td style=\"text-align: right;\">        0</td><td style=\"text-align: right;\">        0</td><td style=\"text-align: right;\">             0</td><td style=\"text-align: right;\">             0</td><td style=\"text-align: right;\">             0</td><td style=\"text-align: right;\">             0</td><td style=\"text-align: right;\">             0</td><td style=\"text-align: right;\">             0</td><td style=\"text-align: right;\">             0</td><td style=\"text-align: right;\">             0</td><td style=\"text-align: right;\">             0</td><td style=\"text-align: right;\">             0</td><td style=\"text-align: right;\">             0</td><td style=\"text-align: right;\">             0</td><td style=\"text-align: right;\">             1</td><td style=\"text-align: right;\">             0</td><td style=\"text-align: right;\">             0</td><td style=\"text-align: right;\">             0</td><td style=\"text-align: right;\">             0</td><td style=\"text-align: right;\">             0</td><td style=\"text-align: right;\">             0</td><td style=\"text-align: right;\">             0</td><td style=\"text-align: right;\">             0</td><td style=\"text-align: right;\">             0</td><td style=\"text-align: right;\">             0</td><td style=\"text-align: right;\">             0</td><td style=\"text-align: right;\">             0</td><td style=\"text-align: right;\">             0</td><td style=\"text-align: right;\">             0</td><td style=\"text-align: right;\">             0</td><td style=\"text-align: right;\">             0</td><td style=\"text-align: right;\">             0</td><td style=\"text-align: right;\">             0</td><td style=\"text-align: right;\">             0</td><td style=\"text-align: right;\">             0</td><td style=\"text-align: right;\">             0</td><td style=\"text-align: right;\">                        0</td><td style=\"text-align: right;\">                    0</td><td style=\"text-align: right;\">                     0</td><td style=\"text-align: right;\">                   0</td><td style=\"text-align: right;\">                    1</td><td style=\"text-align: right;\">                                    1</td><td style=\"text-align: right;\">                             0</td><td style=\"text-align: right;\">                    0</td><td style=\"text-align: right;\">                    0</td><td style=\"text-align: right;\">                                                               0</td><td style=\"text-align: right;\">                                                              0</td><td style=\"text-align: right;\">                       0</td><td style=\"text-align: right;\">                            0</td><td style=\"text-align: right;\">                   0</td><td style=\"text-align: right;\">                            0</td><td style=\"text-align: right;\">                             0</td><td style=\"text-align: right;\">             0</td><td style=\"text-align: right;\">                      0</td><td style=\"text-align: right;\">     15.27</td></tr>\n",
       "<tr><td style=\"text-align: right;\">  0.152472 </td><td style=\"text-align: right;\">    0.152472 </td><td style=\"text-align: right;\">        0.152472 </td><td style=\"text-align: right;\">0.00228709 </td><td style=\"text-align: right;\">  0.0053575  </td><td style=\"text-align: right;\"> 0.000635302</td><td style=\"text-align: right;\">    0.778372</td><td style=\"text-align: right;\">  0.000762362</td><td style=\"text-align: right;\">   0.127759 </td><td style=\"text-align: right;\">0.000553983</td><td style=\"text-align: right;\">            0</td><td style=\"text-align: right;\">     0.00012706 </td><td style=\"text-align: right;\">0.00012706 </td><td style=\"text-align: right;\">        0</td><td style=\"text-align: right;\">  0.187795 </td><td style=\"text-align: right;\"> 0.00625772 </td><td style=\"text-align: right;\">0.000635302</td><td style=\"text-align: right;\"> 0         </td><td style=\"text-align: right;\">     0         </td><td style=\"text-align: right;\">    0.190823 </td><td style=\"text-align: right;\">        0.190822 </td><td style=\"text-align: right;\">       0.152472  </td><td style=\"text-align: right;\">     0.03835   </td><td style=\"text-align: right;\">         0          </td><td style=\"text-align: right;\">  0         </td><td style=\"text-align: right;\">                 0       </td><td style=\"text-align: right;\">      0.0412889  </td><td style=\"text-align: right;\">                           0</td><td style=\"text-align: right;\">               0</td><td style=\"text-align: right;\">    0         </td><td style=\"text-align: right;\">    0.415297 </td><td style=\"text-align: right;\">         0.0317651</td><td style=\"text-align: right;\">                       0</td><td style=\"text-align: right;\">        0</td><td style=\"text-align: right;\">        1</td><td style=\"text-align: right;\">        0</td><td style=\"text-align: right;\">        0</td><td style=\"text-align: right;\">        0</td><td style=\"text-align: right;\">        0</td><td style=\"text-align: right;\">             0</td><td style=\"text-align: right;\">             0</td><td style=\"text-align: right;\">             0</td><td style=\"text-align: right;\">             0</td><td style=\"text-align: right;\">             0</td><td style=\"text-align: right;\">             0</td><td style=\"text-align: right;\">             0</td><td style=\"text-align: right;\">             0</td><td style=\"text-align: right;\">             0</td><td style=\"text-align: right;\">             0</td><td style=\"text-align: right;\">             0</td><td style=\"text-align: right;\">             0</td><td style=\"text-align: right;\">             0</td><td style=\"text-align: right;\">             1</td><td style=\"text-align: right;\">             0</td><td style=\"text-align: right;\">             0</td><td style=\"text-align: right;\">             0</td><td style=\"text-align: right;\">             0</td><td style=\"text-align: right;\">             0</td><td style=\"text-align: right;\">             0</td><td style=\"text-align: right;\">             0</td><td style=\"text-align: right;\">             0</td><td style=\"text-align: right;\">             0</td><td style=\"text-align: right;\">             0</td><td style=\"text-align: right;\">             0</td><td style=\"text-align: right;\">             0</td><td style=\"text-align: right;\">             0</td><td style=\"text-align: right;\">             0</td><td style=\"text-align: right;\">             0</td><td style=\"text-align: right;\">             0</td><td style=\"text-align: right;\">             0</td><td style=\"text-align: right;\">             0</td><td style=\"text-align: right;\">             0</td><td style=\"text-align: right;\">             0</td><td style=\"text-align: right;\">                        0</td><td style=\"text-align: right;\">                    0</td><td style=\"text-align: right;\">                     0</td><td style=\"text-align: right;\">                   0</td><td style=\"text-align: right;\">                    1</td><td style=\"text-align: right;\">                                    0</td><td style=\"text-align: right;\">                             0</td><td style=\"text-align: right;\">                    0</td><td style=\"text-align: right;\">                    0</td><td style=\"text-align: right;\">                                                               0</td><td style=\"text-align: right;\">                                                              0</td><td style=\"text-align: right;\">                       1</td><td style=\"text-align: right;\">                            0</td><td style=\"text-align: right;\">                   0</td><td style=\"text-align: right;\">                            0</td><td style=\"text-align: right;\">                             0</td><td style=\"text-align: right;\">             0</td><td style=\"text-align: right;\">                      0</td><td style=\"text-align: right;\">     15.96</td></tr>\n",
       "<tr><td style=\"text-align: right;\">  0.155753 </td><td style=\"text-align: right;\">    0.155753 </td><td style=\"text-align: right;\">        0.155753 </td><td style=\"text-align: right;\">0.000560711</td><td style=\"text-align: right;\">  0.00528485 </td><td style=\"text-align: right;\"> 0.000155753</td><td style=\"text-align: right;\">    0.766305</td><td style=\"text-align: right;\">  0.000186904</td><td style=\"text-align: right;\">   0.0313219</td><td style=\"text-align: right;\">0.000311506</td><td style=\"text-align: right;\">            0</td><td style=\"text-align: right;\">     1.56e-05   </td><td style=\"text-align: right;\">0.000155753</td><td style=\"text-align: right;\">        0</td><td style=\"text-align: right;\">  0.0871905</td><td style=\"text-align: right;\"> 0.000327081</td><td style=\"text-align: right;\">0.000576286</td><td style=\"text-align: right;\"> 0         </td><td style=\"text-align: right;\">     0         </td><td style=\"text-align: right;\">    0.190428 </td><td style=\"text-align: right;\">        0.190428 </td><td style=\"text-align: right;\">       0.155753  </td><td style=\"text-align: right;\">     0.034411  </td><td style=\"text-align: right;\">         0.000264313</td><td style=\"text-align: right;\">  0         </td><td style=\"text-align: right;\">                 0       </td><td style=\"text-align: right;\">      0.00556786 </td><td style=\"text-align: right;\">                           0</td><td style=\"text-align: right;\">               0</td><td style=\"text-align: right;\">    0         </td><td style=\"text-align: right;\">    0.42371  </td><td style=\"text-align: right;\">         0.232072 </td><td style=\"text-align: right;\">                       0</td><td style=\"text-align: right;\">        0</td><td style=\"text-align: right;\">        1</td><td style=\"text-align: right;\">        0</td><td style=\"text-align: right;\">        0</td><td style=\"text-align: right;\">        0</td><td style=\"text-align: right;\">        0</td><td style=\"text-align: right;\">             0</td><td style=\"text-align: right;\">             0</td><td style=\"text-align: right;\">             0</td><td style=\"text-align: right;\">             0</td><td style=\"text-align: right;\">             0</td><td style=\"text-align: right;\">             0</td><td style=\"text-align: right;\">             0</td><td style=\"text-align: right;\">             0</td><td style=\"text-align: right;\">             0</td><td style=\"text-align: right;\">             1</td><td style=\"text-align: right;\">             0</td><td style=\"text-align: right;\">             0</td><td style=\"text-align: right;\">             0</td><td style=\"text-align: right;\">             0</td><td style=\"text-align: right;\">             0</td><td style=\"text-align: right;\">             0</td><td style=\"text-align: right;\">             0</td><td style=\"text-align: right;\">             0</td><td style=\"text-align: right;\">             0</td><td style=\"text-align: right;\">             0</td><td style=\"text-align: right;\">             0</td><td style=\"text-align: right;\">             0</td><td style=\"text-align: right;\">             0</td><td style=\"text-align: right;\">             0</td><td style=\"text-align: right;\">             0</td><td style=\"text-align: right;\">             0</td><td style=\"text-align: right;\">             0</td><td style=\"text-align: right;\">             0</td><td style=\"text-align: right;\">             0</td><td style=\"text-align: right;\">             0</td><td style=\"text-align: right;\">             0</td><td style=\"text-align: right;\">             0</td><td style=\"text-align: right;\">             0</td><td style=\"text-align: right;\">             0</td><td style=\"text-align: right;\">                        0</td><td style=\"text-align: right;\">                    0</td><td style=\"text-align: right;\">                     0</td><td style=\"text-align: right;\">                   0</td><td style=\"text-align: right;\">                    1</td><td style=\"text-align: right;\">                                    1</td><td style=\"text-align: right;\">                             0</td><td style=\"text-align: right;\">                    0</td><td style=\"text-align: right;\">                    0</td><td style=\"text-align: right;\">                                                               0</td><td style=\"text-align: right;\">                                                              0</td><td style=\"text-align: right;\">                       1</td><td style=\"text-align: right;\">                            0</td><td style=\"text-align: right;\">                   0</td><td style=\"text-align: right;\">                            0</td><td style=\"text-align: right;\">                             0</td><td style=\"text-align: right;\">             0</td><td style=\"text-align: right;\">                      0</td><td style=\"text-align: right;\">     13.49</td></tr>\n",
       "<tr><td style=\"text-align: right;\">  0.032231 </td><td style=\"text-align: right;\">    0.032231 </td><td style=\"text-align: right;\">        0.032231 </td><td style=\"text-align: right;\">0.000644621</td><td style=\"text-align: right;\">  0.000728314</td><td style=\"text-align: right;\"> 1.07e-05   </td><td style=\"text-align: right;\">    0.859494</td><td style=\"text-align: right;\">  0.000128924</td><td style=\"text-align: right;\">   0.0216055</td><td style=\"text-align: right;\">0.000192742</td><td style=\"text-align: right;\">            0</td><td style=\"text-align: right;\">     0          </td><td style=\"text-align: right;\">0.000161155</td><td style=\"text-align: right;\">        0</td><td style=\"text-align: right;\">  0.298492 </td><td style=\"text-align: right;\"> 0.000579084</td><td style=\"text-align: right;\">0.00040826 </td><td style=\"text-align: right;\"> 0.00823933</td><td style=\"text-align: right;\">     0.00823933</td><td style=\"text-align: right;\">    0.0348328</td><td style=\"text-align: right;\">        0.0348328</td><td style=\"text-align: right;\">       0.0239917 </td><td style=\"text-align: right;\">     0.0108411 </td><td style=\"text-align: right;\">         0          </td><td style=\"text-align: right;\">  0         </td><td style=\"text-align: right;\">                 0       </td><td style=\"text-align: right;\">      0.000728314</td><td style=\"text-align: right;\">                           0</td><td style=\"text-align: right;\">               0</td><td style=\"text-align: right;\">    0         </td><td style=\"text-align: right;\">    0.125454 </td><td style=\"text-align: right;\">         0.386772 </td><td style=\"text-align: right;\">                       0</td><td style=\"text-align: right;\">        1</td><td style=\"text-align: right;\">        0</td><td style=\"text-align: right;\">        0</td><td style=\"text-align: right;\">        0</td><td style=\"text-align: right;\">        0</td><td style=\"text-align: right;\">        0</td><td style=\"text-align: right;\">             0</td><td style=\"text-align: right;\">             0</td><td style=\"text-align: right;\">             0</td><td style=\"text-align: right;\">             0</td><td style=\"text-align: right;\">             0</td><td style=\"text-align: right;\">             0</td><td style=\"text-align: right;\">             0</td><td style=\"text-align: right;\">             0</td><td style=\"text-align: right;\">             1</td><td style=\"text-align: right;\">             0</td><td style=\"text-align: right;\">             0</td><td style=\"text-align: right;\">             0</td><td style=\"text-align: right;\">             0</td><td style=\"text-align: right;\">             0</td><td style=\"text-align: right;\">             0</td><td style=\"text-align: right;\">             0</td><td style=\"text-align: right;\">             0</td><td style=\"text-align: right;\">             0</td><td style=\"text-align: right;\">             0</td><td style=\"text-align: right;\">             0</td><td style=\"text-align: right;\">             0</td><td style=\"text-align: right;\">             0</td><td style=\"text-align: right;\">             0</td><td style=\"text-align: right;\">             0</td><td style=\"text-align: right;\">             0</td><td style=\"text-align: right;\">             0</td><td style=\"text-align: right;\">             0</td><td style=\"text-align: right;\">             0</td><td style=\"text-align: right;\">             0</td><td style=\"text-align: right;\">             0</td><td style=\"text-align: right;\">             0</td><td style=\"text-align: right;\">             0</td><td style=\"text-align: right;\">             0</td><td style=\"text-align: right;\">             0</td><td style=\"text-align: right;\">                        0</td><td style=\"text-align: right;\">                    0</td><td style=\"text-align: right;\">                     0</td><td style=\"text-align: right;\">                   0</td><td style=\"text-align: right;\">                    1</td><td style=\"text-align: right;\">                                    1</td><td style=\"text-align: right;\">                             0</td><td style=\"text-align: right;\">                    1</td><td style=\"text-align: right;\">                    0</td><td style=\"text-align: right;\">                                                               0</td><td style=\"text-align: right;\">                                                              0</td><td style=\"text-align: right;\">                       0</td><td style=\"text-align: right;\">                            0</td><td style=\"text-align: right;\">                   0</td><td style=\"text-align: right;\">                            0</td><td style=\"text-align: right;\">                             0</td><td style=\"text-align: right;\">             0</td><td style=\"text-align: right;\">                      0</td><td style=\"text-align: right;\">     12.69</td></tr>\n",
       "<tr><td style=\"text-align: right;\">  0.0993489</td><td style=\"text-align: right;\">    0.0993489</td><td style=\"text-align: right;\">        0.0993489</td><td style=\"text-align: right;\">0.000715312</td><td style=\"text-align: right;\">  0.00310882 </td><td style=\"text-align: right;\"> 5.96e-05   </td><td style=\"text-align: right;\">    0.715312</td><td style=\"text-align: right;\">  0.000238437</td><td style=\"text-align: right;\">   0.0399581</td><td style=\"text-align: right;\">0.000222541</td><td style=\"text-align: right;\">            0</td><td style=\"text-align: right;\">     5.96e-05   </td><td style=\"text-align: right;\">0.000178828</td><td style=\"text-align: right;\">        0</td><td style=\"text-align: right;\">  0.158223 </td><td style=\"text-align: right;\"> 0.000562315</td><td style=\"text-align: right;\">0.000238437</td><td style=\"text-align: right;\"> 0         </td><td style=\"text-align: right;\">     0         </td><td style=\"text-align: right;\">    0.111894 </td><td style=\"text-align: right;\">        0.111894 </td><td style=\"text-align: right;\">       0.0993489 </td><td style=\"text-align: right;\">     0.0125454 </td><td style=\"text-align: right;\">         0          </td><td style=\"text-align: right;\">  0         </td><td style=\"text-align: right;\">                 0       </td><td style=\"text-align: right;\">      0.00319963 </td><td style=\"text-align: right;\">                           0</td><td style=\"text-align: right;\">               0</td><td style=\"text-align: right;\">    0.0853804 </td><td style=\"text-align: right;\">    0.0885794</td><td style=\"text-align: right;\">         0.61795  </td><td style=\"text-align: right;\">                       0</td><td style=\"text-align: right;\">        0</td><td style=\"text-align: right;\">        0</td><td style=\"text-align: right;\">        0</td><td style=\"text-align: right;\">        0</td><td style=\"text-align: right;\">        0</td><td style=\"text-align: right;\">        0</td><td style=\"text-align: right;\">             0</td><td style=\"text-align: right;\">             0</td><td style=\"text-align: right;\">             1</td><td style=\"text-align: right;\">             0</td><td style=\"text-align: right;\">             0</td><td style=\"text-align: right;\">             0</td><td style=\"text-align: right;\">             0</td><td style=\"text-align: right;\">             0</td><td style=\"text-align: right;\">             0</td><td style=\"text-align: right;\">             0</td><td style=\"text-align: right;\">             0</td><td style=\"text-align: right;\">             0</td><td style=\"text-align: right;\">             0</td><td style=\"text-align: right;\">             0</td><td style=\"text-align: right;\">             0</td><td style=\"text-align: right;\">             0</td><td style=\"text-align: right;\">             0</td><td style=\"text-align: right;\">             0</td><td style=\"text-align: right;\">             0</td><td style=\"text-align: right;\">             0</td><td style=\"text-align: right;\">             0</td><td style=\"text-align: right;\">             0</td><td style=\"text-align: right;\">             0</td><td style=\"text-align: right;\">             0</td><td style=\"text-align: right;\">             0</td><td style=\"text-align: right;\">             0</td><td style=\"text-align: right;\">             0</td><td style=\"text-align: right;\">             0</td><td style=\"text-align: right;\">             0</td><td style=\"text-align: right;\">             0</td><td style=\"text-align: right;\">             0</td><td style=\"text-align: right;\">             0</td><td style=\"text-align: right;\">             0</td><td style=\"text-align: right;\">             0</td><td style=\"text-align: right;\">                        0</td><td style=\"text-align: right;\">                    0</td><td style=\"text-align: right;\">                     0</td><td style=\"text-align: right;\">                   0</td><td style=\"text-align: right;\">                    1</td><td style=\"text-align: right;\">                                    1</td><td style=\"text-align: right;\">                             0</td><td style=\"text-align: right;\">                    0</td><td style=\"text-align: right;\">                    0</td><td style=\"text-align: right;\">                                                               0</td><td style=\"text-align: right;\">                                                              0</td><td style=\"text-align: right;\">                       1</td><td style=\"text-align: right;\">                            0</td><td style=\"text-align: right;\">                   0</td><td style=\"text-align: right;\">                            0</td><td style=\"text-align: right;\">                             0</td><td style=\"text-align: right;\">             0</td><td style=\"text-align: right;\">                      0</td><td style=\"text-align: right;\">      7.9 </td></tr>\n",
       "<tr><td style=\"text-align: right;\">  0.106246 </td><td style=\"text-align: right;\">    0.106246 </td><td style=\"text-align: right;\">        0.106246 </td><td style=\"text-align: right;\">0.000910684</td><td style=\"text-align: right;\">  0.00258148 </td><td style=\"text-align: right;\"> 0.000121424</td><td style=\"text-align: right;\">    0.71343 </td><td style=\"text-align: right;\">  0.000182137</td><td style=\"text-align: right;\">   0.0305231</td><td style=\"text-align: right;\">0.000356836</td><td style=\"text-align: right;\">            0</td><td style=\"text-align: right;\">     1.52e-05   </td><td style=\"text-align: right;\">0.000106246</td><td style=\"text-align: right;\">        0</td><td style=\"text-align: right;\">  0.269046 </td><td style=\"text-align: right;\"> 0.00129924 </td><td style=\"text-align: right;\">0.000166959</td><td style=\"text-align: right;\"> 0.0286736 </td><td style=\"text-align: right;\">     0.0286736 </td><td style=\"text-align: right;\">    0.123501 </td><td style=\"text-align: right;\">        0.123501 </td><td style=\"text-align: right;\">       0.0775728 </td><td style=\"text-align: right;\">     0.0459287 </td><td style=\"text-align: right;\">         0          </td><td style=\"text-align: right;\">  0         </td><td style=\"text-align: right;\">                 0       </td><td style=\"text-align: right;\">      0.00258148 </td><td style=\"text-align: right;\">                           0</td><td style=\"text-align: right;\">               0</td><td style=\"text-align: right;\">    0.00101693</td><td style=\"text-align: right;\">    0.545059 </td><td style=\"text-align: right;\">         0.215528 </td><td style=\"text-align: right;\">                       0</td><td style=\"text-align: right;\">        0</td><td style=\"text-align: right;\">        1</td><td style=\"text-align: right;\">        0</td><td style=\"text-align: right;\">        0</td><td style=\"text-align: right;\">        0</td><td style=\"text-align: right;\">        0</td><td style=\"text-align: right;\">             0</td><td style=\"text-align: right;\">             0</td><td style=\"text-align: right;\">             0</td><td style=\"text-align: right;\">             0</td><td style=\"text-align: right;\">             0</td><td style=\"text-align: right;\">             0</td><td style=\"text-align: right;\">             0</td><td style=\"text-align: right;\">             0</td><td style=\"text-align: right;\">             0</td><td style=\"text-align: right;\">             0</td><td style=\"text-align: right;\">             0</td><td style=\"text-align: right;\">             0</td><td style=\"text-align: right;\">             0</td><td style=\"text-align: right;\">             1</td><td style=\"text-align: right;\">             0</td><td style=\"text-align: right;\">             0</td><td style=\"text-align: right;\">             0</td><td style=\"text-align: right;\">             0</td><td style=\"text-align: right;\">             0</td><td style=\"text-align: right;\">             0</td><td style=\"text-align: right;\">             0</td><td style=\"text-align: right;\">             0</td><td style=\"text-align: right;\">             0</td><td style=\"text-align: right;\">             0</td><td style=\"text-align: right;\">             0</td><td style=\"text-align: right;\">             0</td><td style=\"text-align: right;\">             0</td><td style=\"text-align: right;\">             0</td><td style=\"text-align: right;\">             0</td><td style=\"text-align: right;\">             0</td><td style=\"text-align: right;\">             0</td><td style=\"text-align: right;\">             0</td><td style=\"text-align: right;\">             0</td><td style=\"text-align: right;\">             0</td><td style=\"text-align: right;\">                        0</td><td style=\"text-align: right;\">                    0</td><td style=\"text-align: right;\">                     0</td><td style=\"text-align: right;\">                   0</td><td style=\"text-align: right;\">                    1</td><td style=\"text-align: right;\">                                    0</td><td style=\"text-align: right;\">                             0</td><td style=\"text-align: right;\">                    1</td><td style=\"text-align: right;\">                    0</td><td style=\"text-align: right;\">                                                               0</td><td style=\"text-align: right;\">                                                              0</td><td style=\"text-align: right;\">                       0</td><td style=\"text-align: right;\">                            0</td><td style=\"text-align: right;\">                   0</td><td style=\"text-align: right;\">                            0</td><td style=\"text-align: right;\">                             0</td><td style=\"text-align: right;\">             0</td><td style=\"text-align: right;\">                      0</td><td style=\"text-align: right;\">     15.96</td></tr>\n",
       "<tr><td style=\"text-align: right;\">  0.0526057</td><td style=\"text-align: right;\">    0.0526057</td><td style=\"text-align: right;\">        0.0526057</td><td style=\"text-align: right;\">0.000631269</td><td style=\"text-align: right;\">  0.00191888 </td><td style=\"text-align: right;\"> 0.000157817</td><td style=\"text-align: right;\">    0.841692</td><td style=\"text-align: right;\">  0.000210423</td><td style=\"text-align: right;\">   0.0352634</td><td style=\"text-align: right;\">9.38e-05   </td><td style=\"text-align: right;\">            0</td><td style=\"text-align: right;\">     3.51e-05   </td><td style=\"text-align: right;\">7.01e-05   </td><td style=\"text-align: right;\">        0</td><td style=\"text-align: right;\">  0.144157 </td><td style=\"text-align: right;\"> 0.00153433 </td><td style=\"text-align: right;\">7.01e-05   </td><td style=\"text-align: right;\"> 0         </td><td style=\"text-align: right;\">     0         </td><td style=\"text-align: right;\">    0.0690563</td><td style=\"text-align: right;\">        0.0690562</td><td style=\"text-align: right;\">       0.0526057 </td><td style=\"text-align: right;\">     0.0164505 </td><td style=\"text-align: right;\">         0          </td><td style=\"text-align: right;\">  0         </td><td style=\"text-align: right;\">                 0       </td><td style=\"text-align: right;\">      0.00195237 </td><td style=\"text-align: right;\">                           0</td><td style=\"text-align: right;\">               0</td><td style=\"text-align: right;\">    0         </td><td style=\"text-align: right;\">    0.490233 </td><td style=\"text-align: right;\">         0.0911833</td><td style=\"text-align: right;\">                       0</td><td style=\"text-align: right;\">        0</td><td style=\"text-align: right;\">        0</td><td style=\"text-align: right;\">        0</td><td style=\"text-align: right;\">        1</td><td style=\"text-align: right;\">        0</td><td style=\"text-align: right;\">        0</td><td style=\"text-align: right;\">             0</td><td style=\"text-align: right;\">             0</td><td style=\"text-align: right;\">             0</td><td style=\"text-align: right;\">             0</td><td style=\"text-align: right;\">             0</td><td style=\"text-align: right;\">             0</td><td style=\"text-align: right;\">             0</td><td style=\"text-align: right;\">             0</td><td style=\"text-align: right;\">             0</td><td style=\"text-align: right;\">             0</td><td style=\"text-align: right;\">             0</td><td style=\"text-align: right;\">             0</td><td style=\"text-align: right;\">             0</td><td style=\"text-align: right;\">             0</td><td style=\"text-align: right;\">             0</td><td style=\"text-align: right;\">             0</td><td style=\"text-align: right;\">             0</td><td style=\"text-align: right;\">             0</td><td style=\"text-align: right;\">             0</td><td style=\"text-align: right;\">             1</td><td style=\"text-align: right;\">             0</td><td style=\"text-align: right;\">             0</td><td style=\"text-align: right;\">             0</td><td style=\"text-align: right;\">             0</td><td style=\"text-align: right;\">             0</td><td style=\"text-align: right;\">             0</td><td style=\"text-align: right;\">             0</td><td style=\"text-align: right;\">             0</td><td style=\"text-align: right;\">             0</td><td style=\"text-align: right;\">             0</td><td style=\"text-align: right;\">             0</td><td style=\"text-align: right;\">             0</td><td style=\"text-align: right;\">             0</td><td style=\"text-align: right;\">             0</td><td style=\"text-align: right;\">                        0</td><td style=\"text-align: right;\">                    0</td><td style=\"text-align: right;\">                     0</td><td style=\"text-align: right;\">                   0</td><td style=\"text-align: right;\">                    1</td><td style=\"text-align: right;\">                                    1</td><td style=\"text-align: right;\">                             0</td><td style=\"text-align: right;\">                    0</td><td style=\"text-align: right;\">                    0</td><td style=\"text-align: right;\">                                                               0</td><td style=\"text-align: right;\">                                                              0</td><td style=\"text-align: right;\">                       1</td><td style=\"text-align: right;\">                            0</td><td style=\"text-align: right;\">                   0</td><td style=\"text-align: right;\">                            0</td><td style=\"text-align: right;\">                             0</td><td style=\"text-align: right;\">             0</td><td style=\"text-align: right;\">                      0</td><td style=\"text-align: right;\">     18.64</td></tr>\n",
       "<tr><td style=\"text-align: right;\">  0.111898 </td><td style=\"text-align: right;\">    0.111898 </td><td style=\"text-align: right;\">        0.111898 </td><td style=\"text-align: right;\">0.00119891 </td><td style=\"text-align: right;\">  0.00304503 </td><td style=\"text-align: right;\"> 7.99e-05   </td><td style=\"text-align: right;\">    0.799273</td><td style=\"text-align: right;\">  0.000239782</td><td style=\"text-align: right;\">   0.0401834</td><td style=\"text-align: right;\">0.000110899</td><td style=\"text-align: right;\">            0</td><td style=\"text-align: right;\">     4e-05      </td><td style=\"text-align: right;\">0.0002198  </td><td style=\"text-align: right;\">        0</td><td style=\"text-align: right;\">  0.104105 </td><td style=\"text-align: right;\"> 0.000651407</td><td style=\"text-align: right;\">0.000259764</td><td style=\"text-align: right;\"> 0         </td><td style=\"text-align: right;\">     0         </td><td style=\"text-align: right;\">    0.0129087</td><td style=\"text-align: right;\">        0.0129087</td><td style=\"text-align: right;\">       0.00323746</td><td style=\"text-align: right;\">     0.00589344</td><td style=\"text-align: right;\">         0          </td><td style=\"text-align: right;\">  0.00377776</td><td style=\"text-align: right;\">                 4.18e-05</td><td style=\"text-align: right;\">      0.00304503 </td><td style=\"text-align: right;\">                           0</td><td style=\"text-align: right;\">               0</td><td style=\"text-align: right;\">    0.00163851</td><td style=\"text-align: right;\">    0.534614 </td><td style=\"text-align: right;\">         0.157856 </td><td style=\"text-align: right;\">                       0</td><td style=\"text-align: right;\">        0</td><td style=\"text-align: right;\">        0</td><td style=\"text-align: right;\">        0</td><td style=\"text-align: right;\">        0</td><td style=\"text-align: right;\">        1</td><td style=\"text-align: right;\">        0</td><td style=\"text-align: right;\">             0</td><td style=\"text-align: right;\">             0</td><td style=\"text-align: right;\">             0</td><td style=\"text-align: right;\">             0</td><td style=\"text-align: right;\">             0</td><td style=\"text-align: right;\">             0</td><td style=\"text-align: right;\">             0</td><td style=\"text-align: right;\">             0</td><td style=\"text-align: right;\">             0</td><td style=\"text-align: right;\">             0</td><td style=\"text-align: right;\">             0</td><td style=\"text-align: right;\">             0</td><td style=\"text-align: right;\">             0</td><td style=\"text-align: right;\">             0</td><td style=\"text-align: right;\">             0</td><td style=\"text-align: right;\">             0</td><td style=\"text-align: right;\">             0</td><td style=\"text-align: right;\">             0</td><td style=\"text-align: right;\">             0</td><td style=\"text-align: right;\">             0</td><td style=\"text-align: right;\">             0</td><td style=\"text-align: right;\">             0</td><td style=\"text-align: right;\">             0</td><td style=\"text-align: right;\">             0</td><td style=\"text-align: right;\">             0</td><td style=\"text-align: right;\">             1</td><td style=\"text-align: right;\">             0</td><td style=\"text-align: right;\">             0</td><td style=\"text-align: right;\">             0</td><td style=\"text-align: right;\">             0</td><td style=\"text-align: right;\">             0</td><td style=\"text-align: right;\">             0</td><td style=\"text-align: right;\">             0</td><td style=\"text-align: right;\">             0</td><td style=\"text-align: right;\">                        0</td><td style=\"text-align: right;\">                    0</td><td style=\"text-align: right;\">                     0</td><td style=\"text-align: right;\">                   1</td><td style=\"text-align: right;\">                    0</td><td style=\"text-align: right;\">                                    1</td><td style=\"text-align: right;\">                             0</td><td style=\"text-align: right;\">                    0</td><td style=\"text-align: right;\">                    0</td><td style=\"text-align: right;\">                                                               0</td><td style=\"text-align: right;\">                                                              0</td><td style=\"text-align: right;\">                       0</td><td style=\"text-align: right;\">                            0</td><td style=\"text-align: right;\">                   0</td><td style=\"text-align: right;\">                            0</td><td style=\"text-align: right;\">                             0</td><td style=\"text-align: right;\">             0</td><td style=\"text-align: right;\">                      0</td><td style=\"text-align: right;\">     21.28</td></tr>\n",
       "<tr><td style=\"text-align: right;\">  0.161685 </td><td style=\"text-align: right;\">    0.161685 </td><td style=\"text-align: right;\">        0.160933 </td><td style=\"text-align: right;\">0.00180486 </td><td style=\"text-align: right;\">  0.00365334 </td><td style=\"text-align: right;\"> 0          </td><td style=\"text-align: right;\">    0.451215</td><td style=\"text-align: right;\">  0.000360972</td><td style=\"text-align: right;\">   0.0604929</td><td style=\"text-align: right;\">0.000543865</td><td style=\"text-align: right;\">            0</td><td style=\"text-align: right;\">     0          </td><td style=\"text-align: right;\">6.02e-05   </td><td style=\"text-align: right;\">        0</td><td style=\"text-align: right;\">  0.279122 </td><td style=\"text-align: right;\"> 0.00109796 </td><td style=\"text-align: right;\">9.02e-05   </td><td style=\"text-align: right;\"> 0         </td><td style=\"text-align: right;\">     0         </td><td style=\"text-align: right;\">    0.0444053</td><td style=\"text-align: right;\">        0.0441992</td><td style=\"text-align: right;\">       0.020259  </td><td style=\"text-align: right;\">     0.0160458 </td><td style=\"text-align: right;\">         0          </td><td style=\"text-align: right;\">  0.00810052</td><td style=\"text-align: right;\">                 7.58e-05</td><td style=\"text-align: right;\">      0.00365334 </td><td style=\"text-align: right;\">                           0</td><td style=\"text-align: right;\">               0</td><td style=\"text-align: right;\">    0         </td><td style=\"text-align: right;\">    0.31943  </td><td style=\"text-align: right;\">         0.72796  </td><td style=\"text-align: right;\">                       0</td><td style=\"text-align: right;\">        1</td><td style=\"text-align: right;\">        0</td><td style=\"text-align: right;\">        0</td><td style=\"text-align: right;\">        0</td><td style=\"text-align: right;\">        0</td><td style=\"text-align: right;\">        0</td><td style=\"text-align: right;\">             0</td><td style=\"text-align: right;\">             0</td><td style=\"text-align: right;\">             0</td><td style=\"text-align: right;\">             0</td><td style=\"text-align: right;\">             0</td><td style=\"text-align: right;\">             0</td><td style=\"text-align: right;\">             0</td><td style=\"text-align: right;\">             0</td><td style=\"text-align: right;\">             1</td><td style=\"text-align: right;\">             0</td><td style=\"text-align: right;\">             0</td><td style=\"text-align: right;\">             0</td><td style=\"text-align: right;\">             0</td><td style=\"text-align: right;\">             0</td><td style=\"text-align: right;\">             0</td><td style=\"text-align: right;\">             0</td><td style=\"text-align: right;\">             0</td><td style=\"text-align: right;\">             0</td><td style=\"text-align: right;\">             0</td><td style=\"text-align: right;\">             0</td><td style=\"text-align: right;\">             0</td><td style=\"text-align: right;\">             0</td><td style=\"text-align: right;\">             0</td><td style=\"text-align: right;\">             0</td><td style=\"text-align: right;\">             0</td><td style=\"text-align: right;\">             0</td><td style=\"text-align: right;\">             0</td><td style=\"text-align: right;\">             0</td><td style=\"text-align: right;\">             0</td><td style=\"text-align: right;\">             0</td><td style=\"text-align: right;\">             0</td><td style=\"text-align: right;\">             0</td><td style=\"text-align: right;\">             0</td><td style=\"text-align: right;\">             0</td><td style=\"text-align: right;\">                        0</td><td style=\"text-align: right;\">                    0</td><td style=\"text-align: right;\">                     0</td><td style=\"text-align: right;\">                   0</td><td style=\"text-align: right;\">                    1</td><td style=\"text-align: right;\">                                    0</td><td style=\"text-align: right;\">                             1</td><td style=\"text-align: right;\">                    0</td><td style=\"text-align: right;\">                    0</td><td style=\"text-align: right;\">                                                               0</td><td style=\"text-align: right;\">                                                              0</td><td style=\"text-align: right;\">                       0</td><td style=\"text-align: right;\">                            0</td><td style=\"text-align: right;\">                   0</td><td style=\"text-align: right;\">                            0</td><td style=\"text-align: right;\">                             0</td><td style=\"text-align: right;\">             0</td><td style=\"text-align: right;\">                      0</td><td style=\"text-align: right;\">     12.69</td></tr>\n",
       "</tbody>\n",
       "</table>"
      ]
     },
     "metadata": {},
     "output_type": "display_data"
    },
    {
     "data": {
      "text/plain": []
     },
     "execution_count": 42,
     "metadata": {},
     "output_type": "execute_result"
    }
   ],
   "source": [
    "df_linear = h2o.import_file('../Data/Mice Data/data_after_mice.csv')\n",
    "df_linear.head()"
   ]
  },
  {
   "cell_type": "code",
   "execution_count": 43,
   "metadata": {},
   "outputs": [
    {
     "name": "stdout",
     "output_type": "stream",
     "text": [
      "Parse progress: |█████████████████████████████████████████████████████████| 100%\n"
     ]
    },
    {
     "data": {
      "text/html": [
       "<table>\n",
       "<thead>\n",
       "<tr><th style=\"text-align: right;\">  loan_amnt</th><th style=\"text-align: right;\">  funded_amnt</th><th style=\"text-align: right;\">  funded_amnt_inv</th><th style=\"text-align: right;\">  term</th><th style=\"text-align: right;\">  int_rate</th><th style=\"text-align: right;\">  installment</th><th style=\"text-align: right;\">  emp_length</th><th style=\"text-align: right;\">  annual_inc</th><th style=\"text-align: right;\">  issue_month</th><th style=\"text-align: right;\">  issue_year</th><th style=\"text-align: right;\">  dti</th><th style=\"text-align: right;\">  delinq_2yrs</th><th style=\"text-align: right;\">  inq_last_6mths</th><th style=\"text-align: right;\">  open_acc</th><th style=\"text-align: right;\">  pub_rec</th><th style=\"text-align: right;\">  revol_bal</th><th style=\"text-align: right;\">  revol_util</th><th style=\"text-align: right;\">  total_acc</th><th style=\"text-align: right;\">  out_prncp</th><th style=\"text-align: right;\">  out_prncp_inv</th><th style=\"text-align: right;\">  total_pymnt</th><th style=\"text-align: right;\">  total_pymnt_inv</th><th style=\"text-align: right;\">  total_rec_prncp</th><th style=\"text-align: right;\">  total_rec_int</th><th style=\"text-align: right;\">  total_rec_late_fee</th><th style=\"text-align: right;\">  recoveries</th><th style=\"text-align: right;\">  collection_recovery_fee</th><th style=\"text-align: right;\">  last_pymnt_amnt</th><th style=\"text-align: right;\">  collections_12_mths_ex_med</th><th style=\"text-align: right;\">  acc_now_delinq</th><th style=\"text-align: right;\">  tot_coll_amt</th><th style=\"text-align: right;\">  tot_cur_bal</th><th style=\"text-align: right;\">  total_rev_hi_lim</th><th style=\"text-align: right;\">  grade_B</th><th style=\"text-align: right;\">  grade_C</th><th style=\"text-align: right;\">  grade_D</th><th style=\"text-align: right;\">  grade_E</th><th style=\"text-align: right;\">  grade_F</th><th style=\"text-align: right;\">  grade_G</th><th style=\"text-align: right;\">  sub_grade_A2</th><th style=\"text-align: right;\">  sub_grade_A3</th><th style=\"text-align: right;\">  sub_grade_A4</th><th style=\"text-align: right;\">  sub_grade_A5</th><th style=\"text-align: right;\">  sub_grade_B1</th><th style=\"text-align: right;\">  sub_grade_B2</th><th style=\"text-align: right;\">  sub_grade_B3</th><th style=\"text-align: right;\">  sub_grade_B4</th><th style=\"text-align: right;\">  sub_grade_B5</th><th style=\"text-align: right;\">  sub_grade_C1</th><th style=\"text-align: right;\">  sub_grade_C2</th><th style=\"text-align: right;\">  sub_grade_C3</th><th style=\"text-align: right;\">  sub_grade_C4</th><th style=\"text-align: right;\">  sub_grade_C5</th><th style=\"text-align: right;\">  sub_grade_D1</th><th style=\"text-align: right;\">  sub_grade_D2</th><th style=\"text-align: right;\">  sub_grade_D3</th><th style=\"text-align: right;\">  sub_grade_D4</th><th style=\"text-align: right;\">  sub_grade_D5</th><th style=\"text-align: right;\">  sub_grade_E1</th><th style=\"text-align: right;\">  sub_grade_E2</th><th style=\"text-align: right;\">  sub_grade_E3</th><th style=\"text-align: right;\">  sub_grade_E4</th><th style=\"text-align: right;\">  sub_grade_E5</th><th style=\"text-align: right;\">  sub_grade_F1</th><th style=\"text-align: right;\">  sub_grade_F2</th><th style=\"text-align: right;\">  sub_grade_F3</th><th style=\"text-align: right;\">  sub_grade_F4</th><th style=\"text-align: right;\">  sub_grade_F5</th><th style=\"text-align: right;\">  sub_grade_G1</th><th style=\"text-align: right;\">  sub_grade_G2</th><th style=\"text-align: right;\">  sub_grade_G3</th><th style=\"text-align: right;\">  sub_grade_G4</th><th style=\"text-align: right;\">  sub_grade_G5</th><th style=\"text-align: right;\">  home_ownership_MORTGAGE</th><th style=\"text-align: right;\">  home_ownership_NONE</th><th style=\"text-align: right;\">  home_ownership_OTHER</th><th style=\"text-align: right;\">  home_ownership_OWN</th><th style=\"text-align: right;\">  home_ownership_RENT</th><th style=\"text-align: right;\">  verification_status_Source_Verified</th><th style=\"text-align: right;\">  verification_status_Verified</th><th style=\"text-align: right;\">  loan_status_Current</th><th style=\"text-align: right;\">  loan_status_Default</th><th style=\"text-align: right;\">  loan_status_Does_not_meet_the_credit_policy_Status_Charged_Off</th><th style=\"text-align: right;\">  loan_status_Does_not_meet_the_credit_policy_Status_Fully_Paid</th><th style=\"text-align: right;\">  loan_status_Fully_Paid</th><th style=\"text-align: right;\">  loan_status_In_Grace_Period</th><th style=\"text-align: right;\">  loan_status_Issued</th><th style=\"text-align: right;\">  loan_status_Late_16_30_days</th><th style=\"text-align: right;\">  loan_status_Late_31_120_days</th><th style=\"text-align: right;\">  pymnt_plan_y</th><th style=\"text-align: right;\">  initial_list_status_w</th><th style=\"text-align: right;\">  application_type_JOINT</th></tr>\n",
       "</thead>\n",
       "<tbody>\n",
       "<tr><td style=\"text-align: right;\">       5000</td><td style=\"text-align: right;\">         5000</td><td style=\"text-align: right;\">             4975</td><td style=\"text-align: right;\">    36</td><td style=\"text-align: right;\">     10.65</td><td style=\"text-align: right;\">       162.87</td><td style=\"text-align: right;\">          10</td><td style=\"text-align: right;\">       24000</td><td style=\"text-align: right;\">           12</td><td style=\"text-align: right;\">        2011</td><td style=\"text-align: right;\">27.65</td><td style=\"text-align: right;\">            0</td><td style=\"text-align: right;\">               1</td><td style=\"text-align: right;\">         3</td><td style=\"text-align: right;\">        0</td><td style=\"text-align: right;\">      13648</td><td style=\"text-align: right;\">        83.7</td><td style=\"text-align: right;\">          9</td><td style=\"text-align: right;\">       0   </td><td style=\"text-align: right;\">           0   </td><td style=\"text-align: right;\">      5861.07</td><td style=\"text-align: right;\">          5831.78</td><td style=\"text-align: right;\">          5000   </td><td style=\"text-align: right;\">         861.07</td><td style=\"text-align: right;\">                0   </td><td style=\"text-align: right;\">        0   </td><td style=\"text-align: right;\">                     0   </td><td style=\"text-align: right;\">           171.62</td><td style=\"text-align: right;\">                           0</td><td style=\"text-align: right;\">               0</td><td style=\"text-align: right;\">             0</td><td style=\"text-align: right;\">        27310</td><td style=\"text-align: right;\">              8700</td><td style=\"text-align: right;\">        1</td><td style=\"text-align: right;\">        0</td><td style=\"text-align: right;\">        0</td><td style=\"text-align: right;\">        0</td><td style=\"text-align: right;\">        0</td><td style=\"text-align: right;\">        0</td><td style=\"text-align: right;\">             0</td><td style=\"text-align: right;\">             0</td><td style=\"text-align: right;\">             0</td><td style=\"text-align: right;\">             0</td><td style=\"text-align: right;\">             0</td><td style=\"text-align: right;\">             1</td><td style=\"text-align: right;\">             0</td><td style=\"text-align: right;\">             0</td><td style=\"text-align: right;\">             0</td><td style=\"text-align: right;\">             0</td><td style=\"text-align: right;\">             0</td><td style=\"text-align: right;\">             0</td><td style=\"text-align: right;\">             0</td><td style=\"text-align: right;\">             0</td><td style=\"text-align: right;\">             0</td><td style=\"text-align: right;\">             0</td><td style=\"text-align: right;\">             0</td><td style=\"text-align: right;\">             0</td><td style=\"text-align: right;\">             0</td><td style=\"text-align: right;\">             0</td><td style=\"text-align: right;\">             0</td><td style=\"text-align: right;\">             0</td><td style=\"text-align: right;\">             0</td><td style=\"text-align: right;\">             0</td><td style=\"text-align: right;\">             0</td><td style=\"text-align: right;\">             0</td><td style=\"text-align: right;\">             0</td><td style=\"text-align: right;\">             0</td><td style=\"text-align: right;\">             0</td><td style=\"text-align: right;\">             0</td><td style=\"text-align: right;\">             0</td><td style=\"text-align: right;\">             0</td><td style=\"text-align: right;\">             0</td><td style=\"text-align: right;\">             0</td><td style=\"text-align: right;\">                        0</td><td style=\"text-align: right;\">                    0</td><td style=\"text-align: right;\">                     0</td><td style=\"text-align: right;\">                   0</td><td style=\"text-align: right;\">                    1</td><td style=\"text-align: right;\">                                    0</td><td style=\"text-align: right;\">                             1</td><td style=\"text-align: right;\">                    0</td><td style=\"text-align: right;\">                    0</td><td style=\"text-align: right;\">                                                               0</td><td style=\"text-align: right;\">                                                              0</td><td style=\"text-align: right;\">                       1</td><td style=\"text-align: right;\">                            0</td><td style=\"text-align: right;\">                   0</td><td style=\"text-align: right;\">                            0</td><td style=\"text-align: right;\">                             0</td><td style=\"text-align: right;\">             0</td><td style=\"text-align: right;\">                      0</td><td style=\"text-align: right;\">                       0</td></tr>\n",
       "<tr><td style=\"text-align: right;\">       2500</td><td style=\"text-align: right;\">         2500</td><td style=\"text-align: right;\">             2500</td><td style=\"text-align: right;\">    60</td><td style=\"text-align: right;\">     15.27</td><td style=\"text-align: right;\">        59.83</td><td style=\"text-align: right;\">           0</td><td style=\"text-align: right;\">       30000</td><td style=\"text-align: right;\">           12</td><td style=\"text-align: right;\">        2011</td><td style=\"text-align: right;\"> 1   </td><td style=\"text-align: right;\">            0</td><td style=\"text-align: right;\">               5</td><td style=\"text-align: right;\">         3</td><td style=\"text-align: right;\">        0</td><td style=\"text-align: right;\">       1687</td><td style=\"text-align: right;\">         9.4</td><td style=\"text-align: right;\">          4</td><td style=\"text-align: right;\">       0   </td><td style=\"text-align: right;\">           0   </td><td style=\"text-align: right;\">      1008.71</td><td style=\"text-align: right;\">          1008.71</td><td style=\"text-align: right;\">           456.46</td><td style=\"text-align: right;\">         435.17</td><td style=\"text-align: right;\">                0   </td><td style=\"text-align: right;\">      117.08</td><td style=\"text-align: right;\">                     1.11</td><td style=\"text-align: right;\">           119.66</td><td style=\"text-align: right;\">                           0</td><td style=\"text-align: right;\">               0</td><td style=\"text-align: right;\">             0</td><td style=\"text-align: right;\">         4731</td><td style=\"text-align: right;\">             20700</td><td style=\"text-align: right;\">        0</td><td style=\"text-align: right;\">        1</td><td style=\"text-align: right;\">        0</td><td style=\"text-align: right;\">        0</td><td style=\"text-align: right;\">        0</td><td style=\"text-align: right;\">        0</td><td style=\"text-align: right;\">             0</td><td style=\"text-align: right;\">             0</td><td style=\"text-align: right;\">             0</td><td style=\"text-align: right;\">             0</td><td style=\"text-align: right;\">             0</td><td style=\"text-align: right;\">             0</td><td style=\"text-align: right;\">             0</td><td style=\"text-align: right;\">             0</td><td style=\"text-align: right;\">             0</td><td style=\"text-align: right;\">             0</td><td style=\"text-align: right;\">             0</td><td style=\"text-align: right;\">             0</td><td style=\"text-align: right;\">             1</td><td style=\"text-align: right;\">             0</td><td style=\"text-align: right;\">             0</td><td style=\"text-align: right;\">             0</td><td style=\"text-align: right;\">             0</td><td style=\"text-align: right;\">             0</td><td style=\"text-align: right;\">             0</td><td style=\"text-align: right;\">             0</td><td style=\"text-align: right;\">             0</td><td style=\"text-align: right;\">             0</td><td style=\"text-align: right;\">             0</td><td style=\"text-align: right;\">             0</td><td style=\"text-align: right;\">             0</td><td style=\"text-align: right;\">             0</td><td style=\"text-align: right;\">             0</td><td style=\"text-align: right;\">             0</td><td style=\"text-align: right;\">             0</td><td style=\"text-align: right;\">             0</td><td style=\"text-align: right;\">             0</td><td style=\"text-align: right;\">             0</td><td style=\"text-align: right;\">             0</td><td style=\"text-align: right;\">             0</td><td style=\"text-align: right;\">                        0</td><td style=\"text-align: right;\">                    0</td><td style=\"text-align: right;\">                     0</td><td style=\"text-align: right;\">                   0</td><td style=\"text-align: right;\">                    1</td><td style=\"text-align: right;\">                                    1</td><td style=\"text-align: right;\">                             0</td><td style=\"text-align: right;\">                    0</td><td style=\"text-align: right;\">                    0</td><td style=\"text-align: right;\">                                                               0</td><td style=\"text-align: right;\">                                                              0</td><td style=\"text-align: right;\">                       0</td><td style=\"text-align: right;\">                            0</td><td style=\"text-align: right;\">                   0</td><td style=\"text-align: right;\">                            0</td><td style=\"text-align: right;\">                             0</td><td style=\"text-align: right;\">             0</td><td style=\"text-align: right;\">                      0</td><td style=\"text-align: right;\">                       0</td></tr>\n",
       "<tr><td style=\"text-align: right;\">       2400</td><td style=\"text-align: right;\">         2400</td><td style=\"text-align: right;\">             2400</td><td style=\"text-align: right;\">    36</td><td style=\"text-align: right;\">     15.96</td><td style=\"text-align: right;\">        84.33</td><td style=\"text-align: right;\">          10</td><td style=\"text-align: right;\">       12252</td><td style=\"text-align: right;\">           12</td><td style=\"text-align: right;\">        2011</td><td style=\"text-align: right;\"> 8.72</td><td style=\"text-align: right;\">            0</td><td style=\"text-align: right;\">               2</td><td style=\"text-align: right;\">         2</td><td style=\"text-align: right;\">        0</td><td style=\"text-align: right;\">       2956</td><td style=\"text-align: right;\">        98.5</td><td style=\"text-align: right;\">         10</td><td style=\"text-align: right;\">       0   </td><td style=\"text-align: right;\">           0   </td><td style=\"text-align: right;\">      3003.65</td><td style=\"text-align: right;\">          3003.65</td><td style=\"text-align: right;\">          2400   </td><td style=\"text-align: right;\">         603.65</td><td style=\"text-align: right;\">                0   </td><td style=\"text-align: right;\">        0   </td><td style=\"text-align: right;\">                     0   </td><td style=\"text-align: right;\">           649.91</td><td style=\"text-align: right;\">                           0</td><td style=\"text-align: right;\">               0</td><td style=\"text-align: right;\">             0</td><td style=\"text-align: right;\">         6537</td><td style=\"text-align: right;\">               500</td><td style=\"text-align: right;\">        0</td><td style=\"text-align: right;\">        1</td><td style=\"text-align: right;\">        0</td><td style=\"text-align: right;\">        0</td><td style=\"text-align: right;\">        0</td><td style=\"text-align: right;\">        0</td><td style=\"text-align: right;\">             0</td><td style=\"text-align: right;\">             0</td><td style=\"text-align: right;\">             0</td><td style=\"text-align: right;\">             0</td><td style=\"text-align: right;\">             0</td><td style=\"text-align: right;\">             0</td><td style=\"text-align: right;\">             0</td><td style=\"text-align: right;\">             0</td><td style=\"text-align: right;\">             0</td><td style=\"text-align: right;\">             0</td><td style=\"text-align: right;\">             0</td><td style=\"text-align: right;\">             0</td><td style=\"text-align: right;\">             0</td><td style=\"text-align: right;\">             1</td><td style=\"text-align: right;\">             0</td><td style=\"text-align: right;\">             0</td><td style=\"text-align: right;\">             0</td><td style=\"text-align: right;\">             0</td><td style=\"text-align: right;\">             0</td><td style=\"text-align: right;\">             0</td><td style=\"text-align: right;\">             0</td><td style=\"text-align: right;\">             0</td><td style=\"text-align: right;\">             0</td><td style=\"text-align: right;\">             0</td><td style=\"text-align: right;\">             0</td><td style=\"text-align: right;\">             0</td><td style=\"text-align: right;\">             0</td><td style=\"text-align: right;\">             0</td><td style=\"text-align: right;\">             0</td><td style=\"text-align: right;\">             0</td><td style=\"text-align: right;\">             0</td><td style=\"text-align: right;\">             0</td><td style=\"text-align: right;\">             0</td><td style=\"text-align: right;\">             0</td><td style=\"text-align: right;\">                        0</td><td style=\"text-align: right;\">                    0</td><td style=\"text-align: right;\">                     0</td><td style=\"text-align: right;\">                   0</td><td style=\"text-align: right;\">                    1</td><td style=\"text-align: right;\">                                    0</td><td style=\"text-align: right;\">                             0</td><td style=\"text-align: right;\">                    0</td><td style=\"text-align: right;\">                    0</td><td style=\"text-align: right;\">                                                               0</td><td style=\"text-align: right;\">                                                              0</td><td style=\"text-align: right;\">                       1</td><td style=\"text-align: right;\">                            0</td><td style=\"text-align: right;\">                   0</td><td style=\"text-align: right;\">                            0</td><td style=\"text-align: right;\">                             0</td><td style=\"text-align: right;\">             0</td><td style=\"text-align: right;\">                      0</td><td style=\"text-align: right;\">                       0</td></tr>\n",
       "<tr><td style=\"text-align: right;\">      10000</td><td style=\"text-align: right;\">        10000</td><td style=\"text-align: right;\">            10000</td><td style=\"text-align: right;\">    36</td><td style=\"text-align: right;\">     13.49</td><td style=\"text-align: right;\">       339.31</td><td style=\"text-align: right;\">          10</td><td style=\"text-align: right;\">       49200</td><td style=\"text-align: right;\">           12</td><td style=\"text-align: right;\">        2011</td><td style=\"text-align: right;\">20   </td><td style=\"text-align: right;\">            0</td><td style=\"text-align: right;\">               1</td><td style=\"text-align: right;\">        10</td><td style=\"text-align: right;\">        0</td><td style=\"text-align: right;\">       5598</td><td style=\"text-align: right;\">        21  </td><td style=\"text-align: right;\">         37</td><td style=\"text-align: right;\">       0   </td><td style=\"text-align: right;\">           0   </td><td style=\"text-align: right;\">     12226.3 </td><td style=\"text-align: right;\">         12226.3 </td><td style=\"text-align: right;\">         10000   </td><td style=\"text-align: right;\">        2209.33</td><td style=\"text-align: right;\">               16.97</td><td style=\"text-align: right;\">        0   </td><td style=\"text-align: right;\">                     0   </td><td style=\"text-align: right;\">           357.48</td><td style=\"text-align: right;\">                           0</td><td style=\"text-align: right;\">               0</td><td style=\"text-align: right;\">             0</td><td style=\"text-align: right;\">        27204</td><td style=\"text-align: right;\">             14900</td><td style=\"text-align: right;\">        0</td><td style=\"text-align: right;\">        1</td><td style=\"text-align: right;\">        0</td><td style=\"text-align: right;\">        0</td><td style=\"text-align: right;\">        0</td><td style=\"text-align: right;\">        0</td><td style=\"text-align: right;\">             0</td><td style=\"text-align: right;\">             0</td><td style=\"text-align: right;\">             0</td><td style=\"text-align: right;\">             0</td><td style=\"text-align: right;\">             0</td><td style=\"text-align: right;\">             0</td><td style=\"text-align: right;\">             0</td><td style=\"text-align: right;\">             0</td><td style=\"text-align: right;\">             0</td><td style=\"text-align: right;\">             1</td><td style=\"text-align: right;\">             0</td><td style=\"text-align: right;\">             0</td><td style=\"text-align: right;\">             0</td><td style=\"text-align: right;\">             0</td><td style=\"text-align: right;\">             0</td><td style=\"text-align: right;\">             0</td><td style=\"text-align: right;\">             0</td><td style=\"text-align: right;\">             0</td><td style=\"text-align: right;\">             0</td><td style=\"text-align: right;\">             0</td><td style=\"text-align: right;\">             0</td><td style=\"text-align: right;\">             0</td><td style=\"text-align: right;\">             0</td><td style=\"text-align: right;\">             0</td><td style=\"text-align: right;\">             0</td><td style=\"text-align: right;\">             0</td><td style=\"text-align: right;\">             0</td><td style=\"text-align: right;\">             0</td><td style=\"text-align: right;\">             0</td><td style=\"text-align: right;\">             0</td><td style=\"text-align: right;\">             0</td><td style=\"text-align: right;\">             0</td><td style=\"text-align: right;\">             0</td><td style=\"text-align: right;\">             0</td><td style=\"text-align: right;\">                        0</td><td style=\"text-align: right;\">                    0</td><td style=\"text-align: right;\">                     0</td><td style=\"text-align: right;\">                   0</td><td style=\"text-align: right;\">                    1</td><td style=\"text-align: right;\">                                    1</td><td style=\"text-align: right;\">                             0</td><td style=\"text-align: right;\">                    0</td><td style=\"text-align: right;\">                    0</td><td style=\"text-align: right;\">                                                               0</td><td style=\"text-align: right;\">                                                              0</td><td style=\"text-align: right;\">                       1</td><td style=\"text-align: right;\">                            0</td><td style=\"text-align: right;\">                   0</td><td style=\"text-align: right;\">                            0</td><td style=\"text-align: right;\">                             0</td><td style=\"text-align: right;\">             0</td><td style=\"text-align: right;\">                      0</td><td style=\"text-align: right;\">                       0</td></tr>\n",
       "<tr><td style=\"text-align: right;\">       3000</td><td style=\"text-align: right;\">         3000</td><td style=\"text-align: right;\">             3000</td><td style=\"text-align: right;\">    60</td><td style=\"text-align: right;\">     12.69</td><td style=\"text-align: right;\">        67.79</td><td style=\"text-align: right;\">           1</td><td style=\"text-align: right;\">       80000</td><td style=\"text-align: right;\">           12</td><td style=\"text-align: right;\">        2011</td><td style=\"text-align: right;\">17.94</td><td style=\"text-align: right;\">            0</td><td style=\"text-align: right;\">               0</td><td style=\"text-align: right;\">        15</td><td style=\"text-align: right;\">        0</td><td style=\"text-align: right;\">      27783</td><td style=\"text-align: right;\">        53.9</td><td style=\"text-align: right;\">         38</td><td style=\"text-align: right;\">     766.9 </td><td style=\"text-align: right;\">         766.9 </td><td style=\"text-align: right;\">      3242.17</td><td style=\"text-align: right;\">          3242.17</td><td style=\"text-align: right;\">          2233.1 </td><td style=\"text-align: right;\">        1009.07</td><td style=\"text-align: right;\">                0   </td><td style=\"text-align: right;\">        0   </td><td style=\"text-align: right;\">                     0   </td><td style=\"text-align: right;\">            67.79</td><td style=\"text-align: right;\">                           0</td><td style=\"text-align: right;\">               0</td><td style=\"text-align: right;\">             0</td><td style=\"text-align: right;\">        11677</td><td style=\"text-align: right;\">             36000</td><td style=\"text-align: right;\">        1</td><td style=\"text-align: right;\">        0</td><td style=\"text-align: right;\">        0</td><td style=\"text-align: right;\">        0</td><td style=\"text-align: right;\">        0</td><td style=\"text-align: right;\">        0</td><td style=\"text-align: right;\">             0</td><td style=\"text-align: right;\">             0</td><td style=\"text-align: right;\">             0</td><td style=\"text-align: right;\">             0</td><td style=\"text-align: right;\">             0</td><td style=\"text-align: right;\">             0</td><td style=\"text-align: right;\">             0</td><td style=\"text-align: right;\">             0</td><td style=\"text-align: right;\">             1</td><td style=\"text-align: right;\">             0</td><td style=\"text-align: right;\">             0</td><td style=\"text-align: right;\">             0</td><td style=\"text-align: right;\">             0</td><td style=\"text-align: right;\">             0</td><td style=\"text-align: right;\">             0</td><td style=\"text-align: right;\">             0</td><td style=\"text-align: right;\">             0</td><td style=\"text-align: right;\">             0</td><td style=\"text-align: right;\">             0</td><td style=\"text-align: right;\">             0</td><td style=\"text-align: right;\">             0</td><td style=\"text-align: right;\">             0</td><td style=\"text-align: right;\">             0</td><td style=\"text-align: right;\">             0</td><td style=\"text-align: right;\">             0</td><td style=\"text-align: right;\">             0</td><td style=\"text-align: right;\">             0</td><td style=\"text-align: right;\">             0</td><td style=\"text-align: right;\">             0</td><td style=\"text-align: right;\">             0</td><td style=\"text-align: right;\">             0</td><td style=\"text-align: right;\">             0</td><td style=\"text-align: right;\">             0</td><td style=\"text-align: right;\">             0</td><td style=\"text-align: right;\">                        0</td><td style=\"text-align: right;\">                    0</td><td style=\"text-align: right;\">                     0</td><td style=\"text-align: right;\">                   0</td><td style=\"text-align: right;\">                    1</td><td style=\"text-align: right;\">                                    1</td><td style=\"text-align: right;\">                             0</td><td style=\"text-align: right;\">                    1</td><td style=\"text-align: right;\">                    0</td><td style=\"text-align: right;\">                                                               0</td><td style=\"text-align: right;\">                                                              0</td><td style=\"text-align: right;\">                       0</td><td style=\"text-align: right;\">                            0</td><td style=\"text-align: right;\">                   0</td><td style=\"text-align: right;\">                            0</td><td style=\"text-align: right;\">                             0</td><td style=\"text-align: right;\">             0</td><td style=\"text-align: right;\">                      0</td><td style=\"text-align: right;\">                       0</td></tr>\n",
       "<tr><td style=\"text-align: right;\">       5000</td><td style=\"text-align: right;\">         5000</td><td style=\"text-align: right;\">             5000</td><td style=\"text-align: right;\">    36</td><td style=\"text-align: right;\">      7.9 </td><td style=\"text-align: right;\">       156.46</td><td style=\"text-align: right;\">           3</td><td style=\"text-align: right;\">       36000</td><td style=\"text-align: right;\">           12</td><td style=\"text-align: right;\">        2011</td><td style=\"text-align: right;\">11.2 </td><td style=\"text-align: right;\">            0</td><td style=\"text-align: right;\">               3</td><td style=\"text-align: right;\">         9</td><td style=\"text-align: right;\">        0</td><td style=\"text-align: right;\">       7963</td><td style=\"text-align: right;\">        28.3</td><td style=\"text-align: right;\">         12</td><td style=\"text-align: right;\">       0   </td><td style=\"text-align: right;\">           0   </td><td style=\"text-align: right;\">      5631.38</td><td style=\"text-align: right;\">          5631.38</td><td style=\"text-align: right;\">          5000   </td><td style=\"text-align: right;\">         631.38</td><td style=\"text-align: right;\">                0   </td><td style=\"text-align: right;\">        0   </td><td style=\"text-align: right;\">                     0   </td><td style=\"text-align: right;\">           161.03</td><td style=\"text-align: right;\">                           0</td><td style=\"text-align: right;\">               0</td><td style=\"text-align: right;\">          4297</td><td style=\"text-align: right;\">         4458</td><td style=\"text-align: right;\">             31100</td><td style=\"text-align: right;\">        0</td><td style=\"text-align: right;\">        0</td><td style=\"text-align: right;\">        0</td><td style=\"text-align: right;\">        0</td><td style=\"text-align: right;\">        0</td><td style=\"text-align: right;\">        0</td><td style=\"text-align: right;\">             0</td><td style=\"text-align: right;\">             0</td><td style=\"text-align: right;\">             1</td><td style=\"text-align: right;\">             0</td><td style=\"text-align: right;\">             0</td><td style=\"text-align: right;\">             0</td><td style=\"text-align: right;\">             0</td><td style=\"text-align: right;\">             0</td><td style=\"text-align: right;\">             0</td><td style=\"text-align: right;\">             0</td><td style=\"text-align: right;\">             0</td><td style=\"text-align: right;\">             0</td><td style=\"text-align: right;\">             0</td><td style=\"text-align: right;\">             0</td><td style=\"text-align: right;\">             0</td><td style=\"text-align: right;\">             0</td><td style=\"text-align: right;\">             0</td><td style=\"text-align: right;\">             0</td><td style=\"text-align: right;\">             0</td><td style=\"text-align: right;\">             0</td><td style=\"text-align: right;\">             0</td><td style=\"text-align: right;\">             0</td><td style=\"text-align: right;\">             0</td><td style=\"text-align: right;\">             0</td><td style=\"text-align: right;\">             0</td><td style=\"text-align: right;\">             0</td><td style=\"text-align: right;\">             0</td><td style=\"text-align: right;\">             0</td><td style=\"text-align: right;\">             0</td><td style=\"text-align: right;\">             0</td><td style=\"text-align: right;\">             0</td><td style=\"text-align: right;\">             0</td><td style=\"text-align: right;\">             0</td><td style=\"text-align: right;\">             0</td><td style=\"text-align: right;\">                        0</td><td style=\"text-align: right;\">                    0</td><td style=\"text-align: right;\">                     0</td><td style=\"text-align: right;\">                   0</td><td style=\"text-align: right;\">                    1</td><td style=\"text-align: right;\">                                    1</td><td style=\"text-align: right;\">                             0</td><td style=\"text-align: right;\">                    0</td><td style=\"text-align: right;\">                    0</td><td style=\"text-align: right;\">                                                               0</td><td style=\"text-align: right;\">                                                              0</td><td style=\"text-align: right;\">                       1</td><td style=\"text-align: right;\">                            0</td><td style=\"text-align: right;\">                   0</td><td style=\"text-align: right;\">                            0</td><td style=\"text-align: right;\">                             0</td><td style=\"text-align: right;\">             0</td><td style=\"text-align: right;\">                      0</td><td style=\"text-align: right;\">                       0</td></tr>\n",
       "<tr><td style=\"text-align: right;\">       7000</td><td style=\"text-align: right;\">         7000</td><td style=\"text-align: right;\">             7000</td><td style=\"text-align: right;\">    60</td><td style=\"text-align: right;\">     15.96</td><td style=\"text-align: right;\">       170.08</td><td style=\"text-align: right;\">           8</td><td style=\"text-align: right;\">       47004</td><td style=\"text-align: right;\">           12</td><td style=\"text-align: right;\">        2011</td><td style=\"text-align: right;\">23.51</td><td style=\"text-align: right;\">            0</td><td style=\"text-align: right;\">               1</td><td style=\"text-align: right;\">         7</td><td style=\"text-align: right;\">        0</td><td style=\"text-align: right;\">      17726</td><td style=\"text-align: right;\">        85.6</td><td style=\"text-align: right;\">         11</td><td style=\"text-align: right;\">    1889.15</td><td style=\"text-align: right;\">        1889.15</td><td style=\"text-align: right;\">      8136.84</td><td style=\"text-align: right;\">          8136.84</td><td style=\"text-align: right;\">          5110.85</td><td style=\"text-align: right;\">        3025.99</td><td style=\"text-align: right;\">                0   </td><td style=\"text-align: right;\">        0   </td><td style=\"text-align: right;\">                     0   </td><td style=\"text-align: right;\">           170.08</td><td style=\"text-align: right;\">                           0</td><td style=\"text-align: right;\">               0</td><td style=\"text-align: right;\">            67</td><td style=\"text-align: right;\">        35911</td><td style=\"text-align: right;\">             14200</td><td style=\"text-align: right;\">        0</td><td style=\"text-align: right;\">        1</td><td style=\"text-align: right;\">        0</td><td style=\"text-align: right;\">        0</td><td style=\"text-align: right;\">        0</td><td style=\"text-align: right;\">        0</td><td style=\"text-align: right;\">             0</td><td style=\"text-align: right;\">             0</td><td style=\"text-align: right;\">             0</td><td style=\"text-align: right;\">             0</td><td style=\"text-align: right;\">             0</td><td style=\"text-align: right;\">             0</td><td style=\"text-align: right;\">             0</td><td style=\"text-align: right;\">             0</td><td style=\"text-align: right;\">             0</td><td style=\"text-align: right;\">             0</td><td style=\"text-align: right;\">             0</td><td style=\"text-align: right;\">             0</td><td style=\"text-align: right;\">             0</td><td style=\"text-align: right;\">             1</td><td style=\"text-align: right;\">             0</td><td style=\"text-align: right;\">             0</td><td style=\"text-align: right;\">             0</td><td style=\"text-align: right;\">             0</td><td style=\"text-align: right;\">             0</td><td style=\"text-align: right;\">             0</td><td style=\"text-align: right;\">             0</td><td style=\"text-align: right;\">             0</td><td style=\"text-align: right;\">             0</td><td style=\"text-align: right;\">             0</td><td style=\"text-align: right;\">             0</td><td style=\"text-align: right;\">             0</td><td style=\"text-align: right;\">             0</td><td style=\"text-align: right;\">             0</td><td style=\"text-align: right;\">             0</td><td style=\"text-align: right;\">             0</td><td style=\"text-align: right;\">             0</td><td style=\"text-align: right;\">             0</td><td style=\"text-align: right;\">             0</td><td style=\"text-align: right;\">             0</td><td style=\"text-align: right;\">                        0</td><td style=\"text-align: right;\">                    0</td><td style=\"text-align: right;\">                     0</td><td style=\"text-align: right;\">                   0</td><td style=\"text-align: right;\">                    1</td><td style=\"text-align: right;\">                                    0</td><td style=\"text-align: right;\">                             0</td><td style=\"text-align: right;\">                    1</td><td style=\"text-align: right;\">                    0</td><td style=\"text-align: right;\">                                                               0</td><td style=\"text-align: right;\">                                                              0</td><td style=\"text-align: right;\">                       0</td><td style=\"text-align: right;\">                            0</td><td style=\"text-align: right;\">                   0</td><td style=\"text-align: right;\">                            0</td><td style=\"text-align: right;\">                             0</td><td style=\"text-align: right;\">             0</td><td style=\"text-align: right;\">                      0</td><td style=\"text-align: right;\">                       0</td></tr>\n",
       "<tr><td style=\"text-align: right;\">       3000</td><td style=\"text-align: right;\">         3000</td><td style=\"text-align: right;\">             3000</td><td style=\"text-align: right;\">    36</td><td style=\"text-align: right;\">     18.64</td><td style=\"text-align: right;\">       109.43</td><td style=\"text-align: right;\">           9</td><td style=\"text-align: right;\">       48000</td><td style=\"text-align: right;\">           12</td><td style=\"text-align: right;\">        2011</td><td style=\"text-align: right;\"> 5.35</td><td style=\"text-align: right;\">            0</td><td style=\"text-align: right;\">               2</td><td style=\"text-align: right;\">         4</td><td style=\"text-align: right;\">        0</td><td style=\"text-align: right;\">       8221</td><td style=\"text-align: right;\">        87.5</td><td style=\"text-align: right;\">          4</td><td style=\"text-align: right;\">       0   </td><td style=\"text-align: right;\">           0   </td><td style=\"text-align: right;\">      3938.14</td><td style=\"text-align: right;\">          3938.14</td><td style=\"text-align: right;\">          3000   </td><td style=\"text-align: right;\">         938.14</td><td style=\"text-align: right;\">                0   </td><td style=\"text-align: right;\">        0   </td><td style=\"text-align: right;\">                     0   </td><td style=\"text-align: right;\">           111.34</td><td style=\"text-align: right;\">                           0</td><td style=\"text-align: right;\">               0</td><td style=\"text-align: right;\">             0</td><td style=\"text-align: right;\">        27957</td><td style=\"text-align: right;\">              5200</td><td style=\"text-align: right;\">        0</td><td style=\"text-align: right;\">        0</td><td style=\"text-align: right;\">        0</td><td style=\"text-align: right;\">        1</td><td style=\"text-align: right;\">        0</td><td style=\"text-align: right;\">        0</td><td style=\"text-align: right;\">             0</td><td style=\"text-align: right;\">             0</td><td style=\"text-align: right;\">             0</td><td style=\"text-align: right;\">             0</td><td style=\"text-align: right;\">             0</td><td style=\"text-align: right;\">             0</td><td style=\"text-align: right;\">             0</td><td style=\"text-align: right;\">             0</td><td style=\"text-align: right;\">             0</td><td style=\"text-align: right;\">             0</td><td style=\"text-align: right;\">             0</td><td style=\"text-align: right;\">             0</td><td style=\"text-align: right;\">             0</td><td style=\"text-align: right;\">             0</td><td style=\"text-align: right;\">             0</td><td style=\"text-align: right;\">             0</td><td style=\"text-align: right;\">             0</td><td style=\"text-align: right;\">             0</td><td style=\"text-align: right;\">             0</td><td style=\"text-align: right;\">             1</td><td style=\"text-align: right;\">             0</td><td style=\"text-align: right;\">             0</td><td style=\"text-align: right;\">             0</td><td style=\"text-align: right;\">             0</td><td style=\"text-align: right;\">             0</td><td style=\"text-align: right;\">             0</td><td style=\"text-align: right;\">             0</td><td style=\"text-align: right;\">             0</td><td style=\"text-align: right;\">             0</td><td style=\"text-align: right;\">             0</td><td style=\"text-align: right;\">             0</td><td style=\"text-align: right;\">             0</td><td style=\"text-align: right;\">             0</td><td style=\"text-align: right;\">             0</td><td style=\"text-align: right;\">                        0</td><td style=\"text-align: right;\">                    0</td><td style=\"text-align: right;\">                     0</td><td style=\"text-align: right;\">                   0</td><td style=\"text-align: right;\">                    1</td><td style=\"text-align: right;\">                                    1</td><td style=\"text-align: right;\">                             0</td><td style=\"text-align: right;\">                    0</td><td style=\"text-align: right;\">                    0</td><td style=\"text-align: right;\">                                                               0</td><td style=\"text-align: right;\">                                                              0</td><td style=\"text-align: right;\">                       1</td><td style=\"text-align: right;\">                            0</td><td style=\"text-align: right;\">                   0</td><td style=\"text-align: right;\">                            0</td><td style=\"text-align: right;\">                             0</td><td style=\"text-align: right;\">             0</td><td style=\"text-align: right;\">                      0</td><td style=\"text-align: right;\">                       0</td></tr>\n",
       "<tr><td style=\"text-align: right;\">       5600</td><td style=\"text-align: right;\">         5600</td><td style=\"text-align: right;\">             5600</td><td style=\"text-align: right;\">    60</td><td style=\"text-align: right;\">     21.28</td><td style=\"text-align: right;\">       152.39</td><td style=\"text-align: right;\">           4</td><td style=\"text-align: right;\">       40000</td><td style=\"text-align: right;\">           12</td><td style=\"text-align: right;\">        2011</td><td style=\"text-align: right;\"> 5.55</td><td style=\"text-align: right;\">            0</td><td style=\"text-align: right;\">               2</td><td style=\"text-align: right;\">        11</td><td style=\"text-align: right;\">        0</td><td style=\"text-align: right;\">       5210</td><td style=\"text-align: right;\">        32.6</td><td style=\"text-align: right;\">         13</td><td style=\"text-align: right;\">       0   </td><td style=\"text-align: right;\">           0   </td><td style=\"text-align: right;\">       646.02</td><td style=\"text-align: right;\">           646.02</td><td style=\"text-align: right;\">           162.02</td><td style=\"text-align: right;\">         294.94</td><td style=\"text-align: right;\">                0   </td><td style=\"text-align: right;\">      189.06</td><td style=\"text-align: right;\">                     2.09</td><td style=\"text-align: right;\">           152.39</td><td style=\"text-align: right;\">                           0</td><td style=\"text-align: right;\">               0</td><td style=\"text-align: right;\">            82</td><td style=\"text-align: right;\">        26755</td><td style=\"text-align: right;\">              7900</td><td style=\"text-align: right;\">        0</td><td style=\"text-align: right;\">        0</td><td style=\"text-align: right;\">        0</td><td style=\"text-align: right;\">        0</td><td style=\"text-align: right;\">        1</td><td style=\"text-align: right;\">        0</td><td style=\"text-align: right;\">             0</td><td style=\"text-align: right;\">             0</td><td style=\"text-align: right;\">             0</td><td style=\"text-align: right;\">             0</td><td style=\"text-align: right;\">             0</td><td style=\"text-align: right;\">             0</td><td style=\"text-align: right;\">             0</td><td style=\"text-align: right;\">             0</td><td style=\"text-align: right;\">             0</td><td style=\"text-align: right;\">             0</td><td style=\"text-align: right;\">             0</td><td style=\"text-align: right;\">             0</td><td style=\"text-align: right;\">             0</td><td style=\"text-align: right;\">             0</td><td style=\"text-align: right;\">             0</td><td style=\"text-align: right;\">             0</td><td style=\"text-align: right;\">             0</td><td style=\"text-align: right;\">             0</td><td style=\"text-align: right;\">             0</td><td style=\"text-align: right;\">             0</td><td style=\"text-align: right;\">             0</td><td style=\"text-align: right;\">             0</td><td style=\"text-align: right;\">             0</td><td style=\"text-align: right;\">             0</td><td style=\"text-align: right;\">             0</td><td style=\"text-align: right;\">             1</td><td style=\"text-align: right;\">             0</td><td style=\"text-align: right;\">             0</td><td style=\"text-align: right;\">             0</td><td style=\"text-align: right;\">             0</td><td style=\"text-align: right;\">             0</td><td style=\"text-align: right;\">             0</td><td style=\"text-align: right;\">             0</td><td style=\"text-align: right;\">             0</td><td style=\"text-align: right;\">                        0</td><td style=\"text-align: right;\">                    0</td><td style=\"text-align: right;\">                     0</td><td style=\"text-align: right;\">                   1</td><td style=\"text-align: right;\">                    0</td><td style=\"text-align: right;\">                                    1</td><td style=\"text-align: right;\">                             0</td><td style=\"text-align: right;\">                    0</td><td style=\"text-align: right;\">                    0</td><td style=\"text-align: right;\">                                                               0</td><td style=\"text-align: right;\">                                                              0</td><td style=\"text-align: right;\">                       0</td><td style=\"text-align: right;\">                            0</td><td style=\"text-align: right;\">                   0</td><td style=\"text-align: right;\">                            0</td><td style=\"text-align: right;\">                             0</td><td style=\"text-align: right;\">             0</td><td style=\"text-align: right;\">                      0</td><td style=\"text-align: right;\">                       0</td></tr>\n",
       "<tr><td style=\"text-align: right;\">       5375</td><td style=\"text-align: right;\">         5375</td><td style=\"text-align: right;\">             5350</td><td style=\"text-align: right;\">    60</td><td style=\"text-align: right;\">     12.69</td><td style=\"text-align: right;\">       121.45</td><td style=\"text-align: right;\">           0</td><td style=\"text-align: right;\">       15000</td><td style=\"text-align: right;\">           12</td><td style=\"text-align: right;\">        2011</td><td style=\"text-align: right;\">18.08</td><td style=\"text-align: right;\">            0</td><td style=\"text-align: right;\">               0</td><td style=\"text-align: right;\">         2</td><td style=\"text-align: right;\">        0</td><td style=\"text-align: right;\">       9279</td><td style=\"text-align: right;\">        36.5</td><td style=\"text-align: right;\">          3</td><td style=\"text-align: right;\">       0   </td><td style=\"text-align: right;\">           0   </td><td style=\"text-align: right;\">      1476.19</td><td style=\"text-align: right;\">          1469.34</td><td style=\"text-align: right;\">           673.48</td><td style=\"text-align: right;\">         533.42</td><td style=\"text-align: right;\">                0   </td><td style=\"text-align: right;\">      269.29</td><td style=\"text-align: right;\">                     2.52</td><td style=\"text-align: right;\">           121.45</td><td style=\"text-align: right;\">                           0</td><td style=\"text-align: right;\">               0</td><td style=\"text-align: right;\">             0</td><td style=\"text-align: right;\">        10619</td><td style=\"text-align: right;\">             24200</td><td style=\"text-align: right;\">        1</td><td style=\"text-align: right;\">        0</td><td style=\"text-align: right;\">        0</td><td style=\"text-align: right;\">        0</td><td style=\"text-align: right;\">        0</td><td style=\"text-align: right;\">        0</td><td style=\"text-align: right;\">             0</td><td style=\"text-align: right;\">             0</td><td style=\"text-align: right;\">             0</td><td style=\"text-align: right;\">             0</td><td style=\"text-align: right;\">             0</td><td style=\"text-align: right;\">             0</td><td style=\"text-align: right;\">             0</td><td style=\"text-align: right;\">             0</td><td style=\"text-align: right;\">             1</td><td style=\"text-align: right;\">             0</td><td style=\"text-align: right;\">             0</td><td style=\"text-align: right;\">             0</td><td style=\"text-align: right;\">             0</td><td style=\"text-align: right;\">             0</td><td style=\"text-align: right;\">             0</td><td style=\"text-align: right;\">             0</td><td style=\"text-align: right;\">             0</td><td style=\"text-align: right;\">             0</td><td style=\"text-align: right;\">             0</td><td style=\"text-align: right;\">             0</td><td style=\"text-align: right;\">             0</td><td style=\"text-align: right;\">             0</td><td style=\"text-align: right;\">             0</td><td style=\"text-align: right;\">             0</td><td style=\"text-align: right;\">             0</td><td style=\"text-align: right;\">             0</td><td style=\"text-align: right;\">             0</td><td style=\"text-align: right;\">             0</td><td style=\"text-align: right;\">             0</td><td style=\"text-align: right;\">             0</td><td style=\"text-align: right;\">             0</td><td style=\"text-align: right;\">             0</td><td style=\"text-align: right;\">             0</td><td style=\"text-align: right;\">             0</td><td style=\"text-align: right;\">                        0</td><td style=\"text-align: right;\">                    0</td><td style=\"text-align: right;\">                     0</td><td style=\"text-align: right;\">                   0</td><td style=\"text-align: right;\">                    1</td><td style=\"text-align: right;\">                                    0</td><td style=\"text-align: right;\">                             1</td><td style=\"text-align: right;\">                    0</td><td style=\"text-align: right;\">                    0</td><td style=\"text-align: right;\">                                                               0</td><td style=\"text-align: right;\">                                                              0</td><td style=\"text-align: right;\">                       0</td><td style=\"text-align: right;\">                            0</td><td style=\"text-align: right;\">                   0</td><td style=\"text-align: right;\">                            0</td><td style=\"text-align: right;\">                             0</td><td style=\"text-align: right;\">             0</td><td style=\"text-align: right;\">                      0</td><td style=\"text-align: right;\">                       0</td></tr>\n",
       "</tbody>\n",
       "</table>"
      ]
     },
     "metadata": {},
     "output_type": "display_data"
    },
    {
     "data": {
      "text/plain": []
     },
     "execution_count": 43,
     "metadata": {},
     "output_type": "execute_result"
    }
   ],
   "source": [
    "df = h2o.import_file('/Users/akshatpant/Desktop/Rishika/data_after_mice.csv')\n",
    "df"
   ]
  },
  {
   "cell_type": "code",
   "execution_count": 44,
   "metadata": {},
   "outputs": [
    {
     "data": {
      "text/plain": [
       "(887379, 92)"
      ]
     },
     "execution_count": 44,
     "metadata": {},
     "output_type": "execute_result"
    }
   ],
   "source": [
    "df.shape"
   ]
  },
  {
   "cell_type": "code",
   "execution_count": 45,
   "metadata": {
    "collapsed": true
   },
   "outputs": [],
   "source": [
    "train, valid, test = df.split_frame(\n",
    "    ratios=[0.6,0.2], \n",
    "    seed=1234, \n",
    "    destination_frames=['train.hex','valid.hex','test.hex']\n",
    ")"
   ]
  },
  {
   "cell_type": "code",
   "execution_count": 46,
   "metadata": {
    "collapsed": true
   },
   "outputs": [],
   "source": [
    "train_linear, valid_linear, test_linear = df_linear.split_frame(\n",
    "    ratios=[0.6,0.2], \n",
    "    seed=1234, \n",
    "    destination_frames=['train.hex','valid.hex','test.hex']\n",
    ")"
   ]
  },
  {
   "cell_type": "code",
   "execution_count": 47,
   "metadata": {
    "scrolled": true
   },
   "outputs": [
    {
     "data": {
      "text/plain": [
       "['loan_amnt',\n",
       " 'funded_amnt',\n",
       " 'funded_amnt_inv',\n",
       " 'term',\n",
       " 'int_rate',\n",
       " 'installment',\n",
       " 'emp_length',\n",
       " 'annual_inc',\n",
       " 'issue_month',\n",
       " 'issue_year',\n",
       " 'dti',\n",
       " 'delinq_2yrs',\n",
       " 'inq_last_6mths',\n",
       " 'open_acc',\n",
       " 'pub_rec',\n",
       " 'revol_bal',\n",
       " 'revol_util',\n",
       " 'total_acc',\n",
       " 'out_prncp',\n",
       " 'out_prncp_inv',\n",
       " 'total_pymnt',\n",
       " 'total_pymnt_inv',\n",
       " 'total_rec_prncp',\n",
       " 'total_rec_int',\n",
       " 'total_rec_late_fee',\n",
       " 'recoveries',\n",
       " 'collection_recovery_fee',\n",
       " 'last_pymnt_amnt',\n",
       " 'collections_12_mths_ex_med',\n",
       " 'acc_now_delinq',\n",
       " 'tot_coll_amt',\n",
       " 'tot_cur_bal',\n",
       " 'total_rev_hi_lim',\n",
       " 'grade_B',\n",
       " 'grade_C',\n",
       " 'grade_D',\n",
       " 'grade_E',\n",
       " 'grade_F',\n",
       " 'grade_G',\n",
       " 'sub_grade_A2',\n",
       " 'sub_grade_A3',\n",
       " 'sub_grade_A4',\n",
       " 'sub_grade_A5',\n",
       " 'sub_grade_B1',\n",
       " 'sub_grade_B2',\n",
       " 'sub_grade_B3',\n",
       " 'sub_grade_B4',\n",
       " 'sub_grade_B5',\n",
       " 'sub_grade_C1',\n",
       " 'sub_grade_C2',\n",
       " 'sub_grade_C3',\n",
       " 'sub_grade_C4',\n",
       " 'sub_grade_C5',\n",
       " 'sub_grade_D1',\n",
       " 'sub_grade_D2',\n",
       " 'sub_grade_D3',\n",
       " 'sub_grade_D4',\n",
       " 'sub_grade_D5',\n",
       " 'sub_grade_E1',\n",
       " 'sub_grade_E2',\n",
       " 'sub_grade_E3',\n",
       " 'sub_grade_E4',\n",
       " 'sub_grade_E5',\n",
       " 'sub_grade_F1',\n",
       " 'sub_grade_F2',\n",
       " 'sub_grade_F3',\n",
       " 'sub_grade_F4',\n",
       " 'sub_grade_F5',\n",
       " 'sub_grade_G1',\n",
       " 'sub_grade_G2',\n",
       " 'sub_grade_G3',\n",
       " 'sub_grade_G4',\n",
       " 'sub_grade_G5',\n",
       " 'home_ownership_MORTGAGE',\n",
       " 'home_ownership_NONE',\n",
       " 'home_ownership_OTHER',\n",
       " 'home_ownership_OWN',\n",
       " 'home_ownership_RENT',\n",
       " 'verification_status_Source_Verified',\n",
       " 'verification_status_Verified',\n",
       " 'loan_status_Current',\n",
       " 'loan_status_Default',\n",
       " 'loan_status_Does_not_meet_the_credit_policy_Status_Charged_Off',\n",
       " 'loan_status_Does_not_meet_the_credit_policy_Status_Fully_Paid',\n",
       " 'loan_status_Fully_Paid',\n",
       " 'loan_status_In_Grace_Period',\n",
       " 'loan_status_Issued',\n",
       " 'loan_status_Late_16_30_days',\n",
       " 'loan_status_Late_31_120_days',\n",
       " 'pymnt_plan_y',\n",
       " 'initial_list_status_w',\n",
       " 'application_type_JOINT']"
      ]
     },
     "execution_count": 47,
     "metadata": {},
     "output_type": "execute_result"
    }
   ],
   "source": [
    "df.columns"
   ]
  },
  {
   "cell_type": "code",
   "execution_count": 48,
   "metadata": {
    "scrolled": true
   },
   "outputs": [
    {
     "data": {
      "text/plain": [
       "['grade_C',\n",
       " 'grade_D',\n",
       " 'grade_E',\n",
       " 'grade_F',\n",
       " 'grade_G',\n",
       " 'total_rec_int',\n",
       " 'total_pymnt_inv',\n",
       " 'funded_amnt_inv',\n",
       " 'sub_grade_B5',\n",
       " 'sub_grade_C5',\n",
       " 'sub_grade_C4',\n",
       " 'sub_grade_C3',\n",
       " 'sub_grade_B4',\n",
       " 'sub_grade_D5']"
      ]
     },
     "execution_count": 48,
     "metadata": {},
     "output_type": "execute_result"
    }
   ],
   "source": [
    "# predictors = [i for i in df.columns if 'grade' in i]\n",
    "# predictors.append('loan_status_Does_not_meet_the_credit_policy_Status_Charged_Off')\n",
    "# predictors.append('loan_status_Does_not_meet_the_credit_policy_Status_Fully_Paid')\n",
    "# predictors.append('inq_last_6mths')\n",
    "# predictors\n",
    "\n",
    "predictors = ['grade_C','grade_D','grade_E',\n",
    "        'grade_F','grade_G','total_rec_int',\n",
    "        'total_pymnt_inv','funded_amnt_inv','sub_grade_B5',\n",
    "        'sub_grade_C5','sub_grade_C4','sub_grade_C3','sub_grade_B4','sub_grade_D5']\n",
    "\n",
    "predictors"
   ]
  },
  {
   "cell_type": "code",
   "execution_count": 49,
   "metadata": {
    "collapsed": true
   },
   "outputs": [],
   "source": [
    "response = 'int_rate'"
   ]
  },
  {
   "cell_type": "markdown",
   "metadata": {},
   "source": [
    "### Random Forest"
   ]
  },
  {
   "cell_type": "code",
   "execution_count": 50,
   "metadata": {
    "scrolled": true
   },
   "outputs": [
    {
     "name": "stdout",
     "output_type": "stream",
     "text": [
      "drf Model Build progress: |███████████████████████████████████████████████| 100%\n",
      "Model Details\n",
      "=============\n",
      "H2ORandomForestEstimator :  Distributed Random Forest\n",
      "Model Key:  DRF_model_python_1553282803100_25\n",
      "\n",
      "\n",
      "ModelMetricsRegression: drf\n",
      "** Reported on train data. **\n",
      "\n",
      "MSE: 0.7280196567362235\n",
      "RMSE: 0.8532406792554041\n",
      "MAE: 0.4694499951492592\n",
      "RMSLE: 0.07120868905774304\n",
      "Mean Residual Deviance: 0.7280196567362235\n",
      "\n",
      "ModelMetricsRegression: drf\n",
      "** Reported on validation data. **\n",
      "\n",
      "MSE: 0.6750968130417894\n",
      "RMSE: 0.8216427526862203\n",
      "MAE: 0.4529064636679627\n",
      "RMSLE: 0.06868108253567803\n",
      "Mean Residual Deviance: 0.6750968130417894\n",
      "Scoring History: \n"
     ]
    },
    {
     "data": {
      "text/html": [
       "<div style=\"overflow:auto\"><table style=\"width:50%\"><tr><td><b></b></td>\n",
       "<td><b>timestamp</b></td>\n",
       "<td><b>duration</b></td>\n",
       "<td><b>number_of_trees</b></td>\n",
       "<td><b>training_rmse</b></td>\n",
       "<td><b>training_mae</b></td>\n",
       "<td><b>training_deviance</b></td>\n",
       "<td><b>validation_rmse</b></td>\n",
       "<td><b>validation_mae</b></td>\n",
       "<td><b>validation_deviance</b></td></tr>\n",
       "<tr><td></td>\n",
       "<td>2019-03-22 17:16:45</td>\n",
       "<td> 0.000 sec</td>\n",
       "<td>0.0</td>\n",
       "<td>nan</td>\n",
       "<td>nan</td>\n",
       "<td>nan</td>\n",
       "<td>nan</td>\n",
       "<td>nan</td>\n",
       "<td>nan</td></tr>\n",
       "<tr><td></td>\n",
       "<td>2019-03-22 17:16:48</td>\n",
       "<td> 2.546 sec</td>\n",
       "<td>1.0</td>\n",
       "<td>1.0860400</td>\n",
       "<td>0.5470559</td>\n",
       "<td>1.1794828</td>\n",
       "<td>1.0843989</td>\n",
       "<td>0.5459920</td>\n",
       "<td>1.1759209</td></tr>\n",
       "<tr><td></td>\n",
       "<td>2019-03-22 17:16:51</td>\n",
       "<td> 5.489 sec</td>\n",
       "<td>2.0</td>\n",
       "<td>1.0646322</td>\n",
       "<td>0.5646972</td>\n",
       "<td>1.1334417</td>\n",
       "<td>0.9539208</td>\n",
       "<td>0.5249704</td>\n",
       "<td>0.9099648</td></tr>\n",
       "<tr><td></td>\n",
       "<td>2019-03-22 17:16:54</td>\n",
       "<td> 8.653 sec</td>\n",
       "<td>3.0</td>\n",
       "<td>1.0338211</td>\n",
       "<td>0.5448451</td>\n",
       "<td>1.0687861</td>\n",
       "<td>0.9047159</td>\n",
       "<td>0.4966632</td>\n",
       "<td>0.8185108</td></tr>\n",
       "<tr><td></td>\n",
       "<td>2019-03-22 17:16:57</td>\n",
       "<td>11.534 sec</td>\n",
       "<td>4.0</td>\n",
       "<td>1.0084388</td>\n",
       "<td>0.5312170</td>\n",
       "<td>1.0169488</td>\n",
       "<td>0.8803583</td>\n",
       "<td>0.4817565</td>\n",
       "<td>0.7750308</td></tr>\n",
       "<tr><td>---</td>\n",
       "<td>---</td>\n",
       "<td>---</td>\n",
       "<td>---</td>\n",
       "<td>---</td>\n",
       "<td>---</td>\n",
       "<td>---</td>\n",
       "<td>---</td>\n",
       "<td>---</td>\n",
       "<td>---</td></tr>\n",
       "<tr><td></td>\n",
       "<td>2019-03-22 17:17:31</td>\n",
       "<td>45.242 sec</td>\n",
       "<td>16.0</td>\n",
       "<td>0.8669432</td>\n",
       "<td>0.4755830</td>\n",
       "<td>0.7515905</td>\n",
       "<td>0.8252575</td>\n",
       "<td>0.4546844</td>\n",
       "<td>0.6810499</td></tr>\n",
       "<tr><td></td>\n",
       "<td>2019-03-22 17:17:34</td>\n",
       "<td>48.196 sec</td>\n",
       "<td>17.0</td>\n",
       "<td>0.8624415</td>\n",
       "<td>0.4727275</td>\n",
       "<td>0.7438053</td>\n",
       "<td>0.8236998</td>\n",
       "<td>0.4529539</td>\n",
       "<td>0.6784814</td></tr>\n",
       "<tr><td></td>\n",
       "<td>2019-03-22 17:17:37</td>\n",
       "<td>51.208 sec</td>\n",
       "<td>18.0</td>\n",
       "<td>0.8585743</td>\n",
       "<td>0.4702756</td>\n",
       "<td>0.7371498</td>\n",
       "<td>0.8225178</td>\n",
       "<td>0.4516540</td>\n",
       "<td>0.6765355</td></tr>\n",
       "<tr><td></td>\n",
       "<td>2019-03-22 17:17:39</td>\n",
       "<td>54.020 sec</td>\n",
       "<td>19.0</td>\n",
       "<td>0.8567470</td>\n",
       "<td>0.4718125</td>\n",
       "<td>0.7340155</td>\n",
       "<td>0.8228887</td>\n",
       "<td>0.4542873</td>\n",
       "<td>0.6771458</td></tr>\n",
       "<tr><td></td>\n",
       "<td>2019-03-22 17:17:43</td>\n",
       "<td>57.235 sec</td>\n",
       "<td>20.0</td>\n",
       "<td>0.8532407</td>\n",
       "<td>0.4694500</td>\n",
       "<td>0.7280197</td>\n",
       "<td>0.8216428</td>\n",
       "<td>0.4529065</td>\n",
       "<td>0.6750968</td></tr></table></div>"
      ],
      "text/plain": [
       "     timestamp            duration    number_of_trees    training_rmse       training_mae        training_deviance    validation_rmse     validation_mae       validation_deviance\n",
       "---  -------------------  ----------  -----------------  ------------------  ------------------  -------------------  ------------------  -------------------  ---------------------\n",
       "     2019-03-22 17:16:45  0.000 sec   0.0                nan                 nan                 nan                  nan                 nan                  nan\n",
       "     2019-03-22 17:16:48  2.546 sec   1.0                1.0860399786549337  0.5470558895323633  1.1794828352368087   1.0843988798554223  0.5459920288619549   1.1759209306316944\n",
       "     2019-03-22 17:16:51  5.489 sec   2.0                1.0646322106709716  0.564697167773793   1.1334417439981601   0.9539207645025638  0.5249704458005751   0.9099648249491558\n",
       "     2019-03-22 17:16:54  8.653 sec   3.0                1.033821096447365   0.5448451116337071  1.0687860594596323   0.9047158881405849  0.4966632119313959   0.8185108382540073\n",
       "     2019-03-22 17:16:57  11.534 sec  4.0                1.0084388124126131  0.5312170105890439  1.0169488383801617   0.8803583106393994  0.4817565398343752   0.7750307551118573\n",
       "---  ---                  ---         ---                ---                 ---                 ---                  ---                 ---                  ---\n",
       "     2019-03-22 17:17:31  45.242 sec  16.0               0.8669431988301771  0.4755830469514043  0.7515905099979001   0.8252575006067854  0.4546844218072921   0.6810499423077583\n",
       "     2019-03-22 17:17:34  48.196 sec  17.0               0.862441465922904   0.4727274862757494  0.7438052821432476   0.8236998184150698  0.45295389015218857  0.6784813908570189\n",
       "     2019-03-22 17:17:37  51.208 sec  18.0               0.8585742667643332  0.4702755907977964  0.7371497715499125   0.8225177922472905  0.4516539915529182   0.6765355185633569\n",
       "     2019-03-22 17:17:39  54.020 sec  19.0               0.8567470349249763  0.4718125222551214  0.7340154818527385   0.8228887013296977  0.4542873015186917   0.6771458147760765\n",
       "     2019-03-22 17:17:43  57.235 sec  20.0               0.8532406792554041  0.4694499951492592  0.7280196567362235   0.8216427526862203  0.4529064636679627   0.6750968130417894"
      ]
     },
     "metadata": {},
     "output_type": "display_data"
    },
    {
     "name": "stdout",
     "output_type": "stream",
     "text": [
      "\n",
      "See the whole table with table.as_data_frame()\n",
      "Variable Importances: \n"
     ]
    },
    {
     "data": {
      "text/html": [
       "<div style=\"overflow:auto\"><table style=\"width:50%\"><tr><td><b>variable</b></td>\n",
       "<td><b>relative_importance</b></td>\n",
       "<td><b>scaled_importance</b></td>\n",
       "<td><b>percentage</b></td></tr>\n",
       "<tr><td>grade_E</td>\n",
       "<td>35637936.0000000</td>\n",
       "<td>1.0</td>\n",
       "<td>0.2545163</td></tr>\n",
       "<tr><td>grade_D</td>\n",
       "<td>24976936.0000000</td>\n",
       "<td>0.7008525</td>\n",
       "<td>0.1783784</td></tr>\n",
       "<tr><td>grade_F</td>\n",
       "<td>23621052.0000000</td>\n",
       "<td>0.6628064</td>\n",
       "<td>0.1686951</td></tr>\n",
       "<tr><td>total_rec_int</td>\n",
       "<td>14866897.0000000</td>\n",
       "<td>0.4171649</td>\n",
       "<td>0.1061753</td></tr>\n",
       "<tr><td>grade_C</td>\n",
       "<td>14356702.0000000</td>\n",
       "<td>0.4028489</td>\n",
       "<td>0.1025316</td></tr>\n",
       "<tr><td>grade_G</td>\n",
       "<td>8253041.5</td>\n",
       "<td>0.2315802</td>\n",
       "<td>0.0589410</td></tr>\n",
       "<tr><td>total_pymnt_inv</td>\n",
       "<td>4400846.0</td>\n",
       "<td>0.1234877</td>\n",
       "<td>0.0314296</td></tr>\n",
       "<tr><td>funded_amnt_inv</td>\n",
       "<td>3356496.0</td>\n",
       "<td>0.0941832</td>\n",
       "<td>0.0239712</td></tr>\n",
       "<tr><td>sub_grade_B5</td>\n",
       "<td>3133298.2500000</td>\n",
       "<td>0.0879203</td>\n",
       "<td>0.0223772</td></tr>\n",
       "<tr><td>sub_grade_B4</td>\n",
       "<td>2782927.0</td>\n",
       "<td>0.0780889</td>\n",
       "<td>0.0198749</td></tr>\n",
       "<tr><td>sub_grade_C5</td>\n",
       "<td>1533526.6250000</td>\n",
       "<td>0.0430307</td>\n",
       "<td>0.0109520</td></tr>\n",
       "<tr><td>sub_grade_C4</td>\n",
       "<td>1307232.5</td>\n",
       "<td>0.0366809</td>\n",
       "<td>0.0093359</td></tr>\n",
       "<tr><td>sub_grade_D5</td>\n",
       "<td>1206592.5</td>\n",
       "<td>0.0338570</td>\n",
       "<td>0.0086172</td></tr>\n",
       "<tr><td>sub_grade_C3</td>\n",
       "<td>588705.5</td>\n",
       "<td>0.0165191</td>\n",
       "<td>0.0042044</td></tr></table></div>"
      ],
      "text/plain": [
       "variable         relative_importance    scaled_importance    percentage\n",
       "---------------  ---------------------  -------------------  ------------\n",
       "grade_E          3.56379e+07            1                    0.254516\n",
       "grade_D          2.49769e+07            0.700852             0.178378\n",
       "grade_F          2.36211e+07            0.662806             0.168695\n",
       "total_rec_int    1.48669e+07            0.417165             0.106175\n",
       "grade_C          1.43567e+07            0.402849             0.102532\n",
       "grade_G          8.25304e+06            0.23158              0.058941\n",
       "total_pymnt_inv  4.40085e+06            0.123488             0.0314296\n",
       "funded_amnt_inv  3.3565e+06             0.0941832            0.0239712\n",
       "sub_grade_B5     3.1333e+06             0.0879203            0.0223772\n",
       "sub_grade_B4     2.78293e+06            0.0780889            0.0198749\n",
       "sub_grade_C5     1.53353e+06            0.0430307            0.010952\n",
       "sub_grade_C4     1.30723e+06            0.0366809            0.0093359\n",
       "sub_grade_D5     1.20659e+06            0.033857             0.00861715\n",
       "sub_grade_C3     588706                 0.0165191            0.00420437"
      ]
     },
     "metadata": {},
     "output_type": "display_data"
    },
    {
     "data": {
      "text/plain": []
     },
     "execution_count": 50,
     "metadata": {},
     "output_type": "execute_result"
    }
   ],
   "source": [
    "rf = H2ORandomForestEstimator(ntrees = 20, max_depth = 60, stopping_rounds = 2, \n",
    "                             score_each_iteration = True, seed = 1000000)\n",
    "rf.train(x = predictors, y = response, training_frame = train, validation_frame = valid)\n",
    "rf"
   ]
  },
  {
   "cell_type": "code",
   "execution_count": 51,
   "metadata": {},
   "outputs": [
    {
     "name": "stdout",
     "output_type": "stream",
     "text": [
      "drf prediction progress: |████████████████████████████████████████████████| 100%\n"
     ]
    },
    {
     "data": {
      "text/html": [
       "<table>\n",
       "<thead>\n",
       "<tr><th style=\"text-align: right;\">  predict</th></tr>\n",
       "</thead>\n",
       "<tbody>\n",
       "<tr><td style=\"text-align: right;\">  13.4925</td></tr>\n",
       "<tr><td style=\"text-align: right;\">  12.388 </td></tr>\n",
       "<tr><td style=\"text-align: right;\">   9.9725</td></tr>\n",
       "<tr><td style=\"text-align: right;\">   8.248 </td></tr>\n",
       "<tr><td style=\"text-align: right;\">  11.764 </td></tr>\n",
       "<tr><td style=\"text-align: right;\">   8.8615</td></tr>\n",
       "<tr><td style=\"text-align: right;\">  14.6415</td></tr>\n",
       "<tr><td style=\"text-align: right;\">  12.44  </td></tr>\n",
       "<tr><td style=\"text-align: right;\">  12.851 </td></tr>\n",
       "<tr><td style=\"text-align: right;\">  11.8435</td></tr>\n",
       "</tbody>\n",
       "</table>"
      ]
     },
     "metadata": {},
     "output_type": "display_data"
    },
    {
     "data": {
      "text/plain": []
     },
     "execution_count": 51,
     "metadata": {},
     "output_type": "execute_result"
    }
   ],
   "source": [
    "test_predict = rf.predict(test)\n",
    "test_predict"
   ]
  },
  {
   "cell_type": "code",
   "execution_count": 52,
   "metadata": {},
   "outputs": [
    {
     "data": {
      "text/plain": [
       "array([3.80598074])"
      ]
     },
     "execution_count": 52,
     "metadata": {},
     "output_type": "execute_result"
    }
   ],
   "source": [
    "mape = 0\n",
    "\n",
    "for i, j in zip(test['int_rate'].as_data_frame().values, test_predict.as_data_frame().values):\n",
    "    mape += np.abs((i-j)/i)\n",
    "    \n",
    "mape = (mape/test.shape[0])*100\n",
    "\n",
    "mape    "
   ]
  },
  {
   "cell_type": "markdown",
   "metadata": {},
   "source": [
    "### Linear Regression"
   ]
  },
  {
   "cell_type": "code",
   "execution_count": 53,
   "metadata": {
    "scrolled": true
   },
   "outputs": [
    {
     "name": "stdout",
     "output_type": "stream",
     "text": [
      "glm Model Build progress: |███████████████████████████████████████████████| 100%\n",
      "Model Details\n",
      "=============\n",
      "H2OGeneralizedLinearEstimator :  Generalized Linear Modeling\n",
      "Model Key:  GLM_model_python_1553282803100_26\n",
      "\n",
      "\n",
      "ModelMetricsRegressionGLM: glm\n",
      "** Reported on train data. **\n",
      "\n",
      "MSE: 1.5241704166319763\n",
      "RMSE: 1.2345729693428316\n",
      "MAE: 0.9180440273411529\n",
      "RMSLE: 0.11064334458291161\n",
      "R^2: 0.9205645260251174\n",
      "Mean Residual Deviance: 1.5241704166319763\n",
      "Null degrees of freedom: 532514\n",
      "Residual degrees of freedom: 532500\n",
      "Null deviance: 10217646.711212408\n",
      "Residual deviance: 811643.6094127769\n",
      "AIC: 1735672.6981188566\n",
      "\n",
      "ModelMetricsRegressionGLM: glm\n",
      "** Reported on validation data. **\n",
      "\n",
      "MSE: 1.5248883168294192\n",
      "RMSE: 1.2348636835009033\n",
      "MAE: 0.9190480265376683\n",
      "RMSLE: 0.110585363561804\n",
      "R^2: 0.920408655455999\n",
      "Mean Residual Deviance: 1.5248883168294192\n",
      "Null degrees of freedom: 177376\n",
      "Residual degrees of freedom: 177362\n",
      "Null deviance: 3398379.339718937\n",
      "Residual deviance: 270480.1149742519\n",
      "AIC: 578245.2322250835\n",
      "Scoring History: \n"
     ]
    },
    {
     "data": {
      "text/html": [
       "<div style=\"overflow:auto\"><table style=\"width:50%\"><tr><td><b></b></td>\n",
       "<td><b>timestamp</b></td>\n",
       "<td><b>duration</b></td>\n",
       "<td><b>iteration</b></td>\n",
       "<td><b>lambda</b></td>\n",
       "<td><b>predictors</b></td>\n",
       "<td><b>deviance_train</b></td>\n",
       "<td><b>deviance_test</b></td></tr>\n",
       "<tr><td></td>\n",
       "<td>2019-03-22 17:19:31</td>\n",
       "<td> 0.000 sec</td>\n",
       "<td>1</td>\n",
       "<td>.41E1</td>\n",
       "<td>1</td>\n",
       "<td>19.1875285</td>\n",
       "<td>19.1590756</td></tr>\n",
       "<tr><td></td>\n",
       "<td>2019-03-22 17:19:31</td>\n",
       "<td> 0.073 sec</td>\n",
       "<td>2</td>\n",
       "<td>.37E1</td>\n",
       "<td>3</td>\n",
       "<td>18.8083694</td>\n",
       "<td>18.7819807</td></tr>\n",
       "<tr><td></td>\n",
       "<td>2019-03-22 17:19:31</td>\n",
       "<td> 0.104 sec</td>\n",
       "<td>3</td>\n",
       "<td>.34E1</td>\n",
       "<td>4</td>\n",
       "<td>18.3423965</td>\n",
       "<td>18.3177927</td></tr>\n",
       "<tr><td></td>\n",
       "<td>2019-03-22 17:19:31</td>\n",
       "<td> 0.139 sec</td>\n",
       "<td>4</td>\n",
       "<td>.31E1</td>\n",
       "<td>5</td>\n",
       "<td>17.5352392</td>\n",
       "<td>17.5113782</td></tr>\n",
       "<tr><td></td>\n",
       "<td>2019-03-22 17:19:31</td>\n",
       "<td> 0.170 sec</td>\n",
       "<td>5</td>\n",
       "<td>.28E1</td>\n",
       "<td>5</td>\n",
       "<td>16.7302194</td>\n",
       "<td>16.7071161</td></tr>\n",
       "<tr><td>---</td>\n",
       "<td>---</td>\n",
       "<td>---</td>\n",
       "<td>---</td>\n",
       "<td>---</td>\n",
       "<td>---</td>\n",
       "<td>---</td>\n",
       "<td>---</td></tr>\n",
       "<tr><td></td>\n",
       "<td>2019-03-22 17:19:34</td>\n",
       "<td> 3.169 sec</td>\n",
       "<td>75</td>\n",
       "<td>.41E-2</td>\n",
       "<td>15</td>\n",
       "<td>1.5245547</td>\n",
       "<td>1.5252463</td></tr>\n",
       "<tr><td></td>\n",
       "<td>2019-03-22 17:19:34</td>\n",
       "<td> 3.206 sec</td>\n",
       "<td>76</td>\n",
       "<td>.38E-2</td>\n",
       "<td>15</td>\n",
       "<td>1.5244304</td>\n",
       "<td>1.5251295</td></tr>\n",
       "<tr><td></td>\n",
       "<td>2019-03-22 17:19:34</td>\n",
       "<td> 3.241 sec</td>\n",
       "<td>77</td>\n",
       "<td>.34E-2</td>\n",
       "<td>15</td>\n",
       "<td>1.5243280</td>\n",
       "<td>1.5250338</td></tr>\n",
       "<tr><td></td>\n",
       "<td>2019-03-22 17:19:34</td>\n",
       "<td> 3.281 sec</td>\n",
       "<td>78</td>\n",
       "<td>.31E-2</td>\n",
       "<td>15</td>\n",
       "<td>1.5242421</td>\n",
       "<td>1.5249542</td></tr>\n",
       "<tr><td></td>\n",
       "<td>2019-03-22 17:19:34</td>\n",
       "<td> 3.327 sec</td>\n",
       "<td>79</td>\n",
       "<td>.29E-2</td>\n",
       "<td>15</td>\n",
       "<td>1.5241704</td>\n",
       "<td>1.5248883</td></tr></table></div>"
      ],
      "text/plain": [
       "     timestamp            duration    iteration    lambda    predictors    deviance_train      deviance_test\n",
       "---  -------------------  ----------  -----------  --------  ------------  ------------------  ------------------\n",
       "     2019-03-22 17:19:31  0.000 sec   1            .41E1     1             19.18752853153648   19.159075612870097\n",
       "     2019-03-22 17:19:31  0.073 sec   2            .37E1     3             18.808369403159812  18.78198072772927\n",
       "     2019-03-22 17:19:31  0.104 sec   3            .34E1     4             18.342396476808652  18.31779271494015\n",
       "     2019-03-22 17:19:31  0.139 sec   4            .31E1     5             17.535239199394336  17.511378244426666\n",
       "     2019-03-22 17:19:31  0.170 sec   5            .28E1     5             16.73021940865229   16.70711605326383\n",
       "---  ---                  ---         ---          ---       ---           ---                 ---\n",
       "     2019-03-22 17:19:34  3.169 sec   75           .41E-2    15            1.524554749339287   1.5252463170479098\n",
       "     2019-03-22 17:19:34  3.206 sec   76           .38E-2    15            1.5244304272729097  1.5251295198880193\n",
       "     2019-03-22 17:19:34  3.241 sec   77           .34E-2    15            1.5243280206099532  1.5250338185210526\n",
       "     2019-03-22 17:19:34  3.281 sec   78           .31E-2    15            1.5242420660444913  1.524954154848067\n",
       "     2019-03-22 17:19:34  3.327 sec   79           .29E-2    15            1.5241704493004133  1.5248883457579632"
      ]
     },
     "metadata": {},
     "output_type": "display_data"
    },
    {
     "name": "stdout",
     "output_type": "stream",
     "text": [
      "\n",
      "See the whole table with table.as_data_frame()\n"
     ]
    },
    {
     "data": {
      "text/plain": []
     },
     "execution_count": 53,
     "metadata": {},
     "output_type": "execute_result"
    }
   ],
   "source": [
    "glm = H2OGeneralizedLinearEstimator(family = 'gaussian', lambda_search = True)\n",
    "glm.train(x = predictors, y = response, training_frame = train_linear, validation_frame = valid_linear)\n",
    "glm"
   ]
  },
  {
   "cell_type": "code",
   "execution_count": 54,
   "metadata": {},
   "outputs": [
    {
     "name": "stdout",
     "output_type": "stream",
     "text": [
      "glm prediction progress: |████████████████████████████████████████████████| 100%\n"
     ]
    },
    {
     "data": {
      "text/html": [
       "<table>\n",
       "<thead>\n",
       "<tr><th style=\"text-align: right;\">  predict</th></tr>\n",
       "</thead>\n",
       "<tbody>\n",
       "<tr><td style=\"text-align: right;\"> 14.2323 </td></tr>\n",
       "<tr><td style=\"text-align: right;\"> 12.0853 </td></tr>\n",
       "<tr><td style=\"text-align: right;\">  8.73586</td></tr>\n",
       "<tr><td style=\"text-align: right;\">  8.608  </td></tr>\n",
       "<tr><td style=\"text-align: right;\">  9.05307</td></tr>\n",
       "<tr><td style=\"text-align: right;\">  8.74589</td></tr>\n",
       "<tr><td style=\"text-align: right;\"> 16.0438 </td></tr>\n",
       "<tr><td style=\"text-align: right;\"> 12.0222 </td></tr>\n",
       "<tr><td style=\"text-align: right;\"> 12.8154 </td></tr>\n",
       "<tr><td style=\"text-align: right;\"> 10.0516 </td></tr>\n",
       "</tbody>\n",
       "</table>"
      ]
     },
     "metadata": {},
     "output_type": "display_data"
    },
    {
     "data": {
      "text/plain": []
     },
     "execution_count": 54,
     "metadata": {},
     "output_type": "execute_result"
    }
   ],
   "source": [
    "test_predict = glm.predict(test)\n",
    "test_predict"
   ]
  },
  {
   "cell_type": "code",
   "execution_count": 55,
   "metadata": {},
   "outputs": [
    {
     "data": {
      "text/plain": [
       "array([8.53166087])"
      ]
     },
     "execution_count": 55,
     "metadata": {},
     "output_type": "execute_result"
    }
   ],
   "source": [
    "MAPE(test, test_predict)"
   ]
  },
  {
   "cell_type": "markdown",
   "metadata": {},
   "source": [
    "### Neural Network"
   ]
  },
  {
   "cell_type": "code",
   "execution_count": 57,
   "metadata": {
    "collapsed": true
   },
   "outputs": [],
   "source": [
    "batch_size = [10, 20, 40, 60, 80, 100]\n",
    "epochs = [10, 50, 100]"
   ]
  },
  {
   "cell_type": "code",
   "execution_count": 58,
   "metadata": {},
   "outputs": [
    {
     "name": "stdout",
     "output_type": "stream",
     "text": [
      "epoch: 10, batch: 10\n",
      "deeplearning Model Build progress: |██████████████████████████████████████| 100%\n",
      "deeplearning prediction progress: |███████████████████████████████████████| 100%\n",
      "epoch: 10, batch: 20\n",
      "deeplearning Model Build progress: |██████████████████████████████████████| 100%\n",
      "deeplearning prediction progress: |███████████████████████████████████████| 100%\n",
      "epoch: 10, batch: 40\n",
      "deeplearning Model Build progress: |██████████████████████████████████████| 100%\n",
      "deeplearning prediction progress: |███████████████████████████████████████| 100%\n",
      "epoch: 10, batch: 60\n",
      "deeplearning Model Build progress: |██████████████████████████████████████| 100%\n",
      "deeplearning prediction progress: |███████████████████████████████████████| 100%\n",
      "epoch: 10, batch: 80\n",
      "deeplearning Model Build progress: |██████████████████████████████████████| 100%\n",
      "deeplearning prediction progress: |███████████████████████████████████████| 100%\n",
      "epoch: 10, batch: 100\n",
      "deeplearning Model Build progress: |██████████████████████████████████████| 100%\n",
      "deeplearning prediction progress: |███████████████████████████████████████| 100%\n",
      "epoch: 50, batch: 10\n",
      "deeplearning Model Build progress: |██████████████████████████████████████| 100%\n",
      "deeplearning prediction progress: |███████████████████████████████████████| 100%\n",
      "epoch: 50, batch: 20\n",
      "deeplearning Model Build progress: |██████████████████████████████████████| 100%\n",
      "deeplearning prediction progress: |███████████████████████████████████████| 100%\n",
      "epoch: 50, batch: 40\n",
      "deeplearning Model Build progress: |██████████████████████████████████████| 100%\n",
      "deeplearning prediction progress: |███████████████████████████████████████| 100%\n",
      "epoch: 50, batch: 60\n",
      "deeplearning Model Build progress: |██████████████████████████████████████| 100%\n",
      "deeplearning prediction progress: |███████████████████████████████████████| 100%\n",
      "epoch: 50, batch: 80\n",
      "deeplearning Model Build progress: |██████████████████████████████████████| 100%\n",
      "deeplearning prediction progress: |███████████████████████████████████████| 100%\n",
      "epoch: 50, batch: 100\n",
      "deeplearning Model Build progress: |██████████████████████████████████████| 100%\n",
      "deeplearning prediction progress: |███████████████████████████████████████| 100%\n",
      "epoch: 100, batch: 10\n",
      "deeplearning Model Build progress: |██████████████████████████████████████| 100%\n",
      "deeplearning prediction progress: |███████████████████████████████████████| 100%\n",
      "epoch: 100, batch: 20\n",
      "deeplearning Model Build progress: |██████████████████████████████████████| 100%\n",
      "deeplearning prediction progress: |███████████████████████████████████████| 100%\n",
      "epoch: 100, batch: 40\n",
      "deeplearning Model Build progress: |██████████████████████████████████████| 100%\n",
      "deeplearning prediction progress: |███████████████████████████████████████| 100%\n",
      "epoch: 100, batch: 60\n",
      "deeplearning Model Build progress: |██████████████████████████████████████| 100%\n",
      "deeplearning prediction progress: |███████████████████████████████████████| 100%\n",
      "epoch: 100, batch: 80\n",
      "deeplearning Model Build progress: |██████████████████████████████████████| 100%\n",
      "deeplearning prediction progress: |███████████████████████████████████████| 100%\n",
      "epoch: 100, batch: 100\n",
      "deeplearning Model Build progress: |██████████████████████████████████████| 100%\n",
      "deeplearning prediction progress: |███████████████████████████████████████| 100%\n"
     ]
    }
   ],
   "source": [
    "results = []\n",
    "\n",
    "for ep in epochs:\n",
    "    for batch in batch_size:\n",
    "        print('epoch: {}, batch: {}'.format(ep, batch))\n",
    "        dl = H2ODeepLearningEstimator(hidden = [50, 25], activation = 'Tanh', \n",
    "                              distribution = 'gaussian', mini_batch_size = batch, epochs = ep)\n",
    "        dl.train(x = predictors, y = response, training_frame = train, validation_frame = valid)\n",
    "        \n",
    "        test_predict = dl.predict(test)\n",
    "        \n",
    "        mape = MAPE(test, test_predict)\n",
    "        \n",
    "        results.append('epoch: {}, batch: {}, MAPE: {}'.format(ep, batch, mape))\n",
    "        "
   ]
  },
  {
   "cell_type": "code",
   "execution_count": 59,
   "metadata": {},
   "outputs": [
    {
     "data": {
      "text/plain": [
       "['epoch: 10, batch: 10, MAPE: [5.8435322]',\n",
       " 'epoch: 10, batch: 20, MAPE: [6.65448459]',\n",
       " 'epoch: 10, batch: 40, MAPE: [5.56768898]',\n",
       " 'epoch: 10, batch: 60, MAPE: [5.4776815]',\n",
       " 'epoch: 10, batch: 80, MAPE: [6.23096064]',\n",
       " 'epoch: 10, batch: 100, MAPE: [5.8803101]',\n",
       " 'epoch: 50, batch: 10, MAPE: [5.55235419]',\n",
       " 'epoch: 50, batch: 20, MAPE: [5.68400437]',\n",
       " 'epoch: 50, batch: 40, MAPE: [5.66936924]',\n",
       " 'epoch: 50, batch: 60, MAPE: [6.05826013]',\n",
       " 'epoch: 50, batch: 80, MAPE: [5.67016735]',\n",
       " 'epoch: 50, batch: 100, MAPE: [5.57100822]',\n",
       " 'epoch: 100, batch: 10, MAPE: [5.79249894]',\n",
       " 'epoch: 100, batch: 20, MAPE: [6.01402153]',\n",
       " 'epoch: 100, batch: 40, MAPE: [5.67332163]',\n",
       " 'epoch: 100, batch: 60, MAPE: [6.09957444]',\n",
       " 'epoch: 100, batch: 80, MAPE: [5.56890193]',\n",
       " 'epoch: 100, batch: 100, MAPE: [6.01571599]']"
      ]
     },
     "execution_count": 59,
     "metadata": {},
     "output_type": "execute_result"
    }
   ],
   "source": [
    "results"
   ]
  },
  {
   "cell_type": "code",
   "execution_count": null,
   "metadata": {
    "collapsed": true
   },
   "outputs": [],
   "source": []
  },
  {
   "cell_type": "code",
   "execution_count": null,
   "metadata": {
    "collapsed": true
   },
   "outputs": [],
   "source": []
  },
  {
   "cell_type": "code",
   "execution_count": null,
   "metadata": {
    "collapsed": true
   },
   "outputs": [],
   "source": []
  }
 ],
 "metadata": {
  "kernelspec": {
   "display_name": "Python 3",
   "language": "python",
   "name": "python3"
  },
  "language_info": {
   "codemirror_mode": {
    "name": "ipython",
    "version": 3
   },
   "file_extension": ".py",
   "mimetype": "text/x-python",
   "name": "python",
   "nbconvert_exporter": "python",
   "pygments_lexer": "ipython3",
   "version": "3.7.1"
  }
 },
 "nbformat": 4,
 "nbformat_minor": 2
}
