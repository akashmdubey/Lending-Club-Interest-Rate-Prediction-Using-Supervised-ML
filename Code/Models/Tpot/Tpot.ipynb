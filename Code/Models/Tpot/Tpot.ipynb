{
 "cells": [
  {
   "cell_type": "code",
   "execution_count": 1,
   "metadata": {
    "scrolled": true
   },
   "outputs": [
    {
     "name": "stderr",
     "output_type": "stream",
     "text": [
      "/Users/akshatpant/anaconda3/lib/python3.6/site-packages/deap/tools/_hypervolume/pyhv.py:33: ImportWarning: Falling back to the python version of hypervolume module. Expect this to be very slow.\n",
      "  \"module. Expect this to be very slow.\", ImportWarning)\n",
      "/Users/akshatpant/anaconda3/lib/python3.6/importlib/_bootstrap.py:219: ImportWarning: can't resolve package from __spec__ or __package__, falling back on __name__ and __path__\n",
      "  return f(*args, **kwds)\n",
      "/Users/akshatpant/anaconda3/lib/python3.6/importlib/_bootstrap.py:219: ImportWarning: can't resolve package from __spec__ or __package__, falling back on __name__ and __path__\n",
      "  return f(*args, **kwds)\n",
      "/Users/akshatpant/anaconda3/lib/python3.6/importlib/_bootstrap.py:219: ImportWarning: can't resolve package from __spec__ or __package__, falling back on __name__ and __path__\n",
      "  return f(*args, **kwds)\n",
      "/Users/akshatpant/anaconda3/lib/python3.6/importlib/_bootstrap.py:219: ImportWarning: can't resolve package from __spec__ or __package__, falling back on __name__ and __path__\n",
      "  return f(*args, **kwds)\n",
      "/Users/akshatpant/anaconda3/lib/python3.6/importlib/_bootstrap.py:219: ImportWarning: can't resolve package from __spec__ or __package__, falling back on __name__ and __path__\n",
      "  return f(*args, **kwds)\n",
      "/Users/akshatpant/anaconda3/lib/python3.6/importlib/_bootstrap.py:219: ImportWarning: can't resolve package from __spec__ or __package__, falling back on __name__ and __path__\n",
      "  return f(*args, **kwds)\n",
      "/Users/akshatpant/anaconda3/lib/python3.6/importlib/_bootstrap.py:219: ImportWarning: can't resolve package from __spec__ or __package__, falling back on __name__ and __path__\n",
      "  return f(*args, **kwds)\n"
     ]
    }
   ],
   "source": [
    "from tpot import TPOTRegressor\n",
    "from sklearn.model_selection import train_test_split\n",
    "import pandas as pd"
   ]
  },
  {
   "cell_type": "code",
   "execution_count": 14,
   "metadata": {},
   "outputs": [
    {
     "data": {
      "text/html": [
       "<div>\n",
       "<style>\n",
       "    .dataframe thead tr:only-child th {\n",
       "        text-align: right;\n",
       "    }\n",
       "\n",
       "    .dataframe thead th {\n",
       "        text-align: left;\n",
       "    }\n",
       "\n",
       "    .dataframe tbody tr th {\n",
       "        vertical-align: top;\n",
       "    }\n",
       "</style>\n",
       "<table border=\"1\" class=\"dataframe\">\n",
       "  <thead>\n",
       "    <tr style=\"text-align: right;\">\n",
       "      <th></th>\n",
       "      <th>loan_amnt</th>\n",
       "      <th>funded_amnt</th>\n",
       "      <th>funded_amnt_inv</th>\n",
       "      <th>term</th>\n",
       "      <th>installment</th>\n",
       "      <th>emp_length</th>\n",
       "      <th>annual_inc</th>\n",
       "      <th>issue_month</th>\n",
       "      <th>issue_year</th>\n",
       "      <th>dti</th>\n",
       "      <th>...</th>\n",
       "      <th>loan_status_Does_not_meet_the_credit_policy_Status_Charged_Off</th>\n",
       "      <th>loan_status_Does_not_meet_the_credit_policy_Status_Fully_Paid</th>\n",
       "      <th>loan_status_Fully_Paid</th>\n",
       "      <th>loan_status_In_Grace_Period</th>\n",
       "      <th>loan_status_Issued</th>\n",
       "      <th>loan_status_Late_16_30_days</th>\n",
       "      <th>loan_status_Late_31_120_days</th>\n",
       "      <th>pymnt_plan_y</th>\n",
       "      <th>initial_list_status_w</th>\n",
       "      <th>int_rate</th>\n",
       "    </tr>\n",
       "  </thead>\n",
       "  <tbody>\n",
       "    <tr>\n",
       "      <th>0</th>\n",
       "      <td>0.119293</td>\n",
       "      <td>0.119293</td>\n",
       "      <td>0.118696</td>\n",
       "      <td>0.000859</td>\n",
       "      <td>0.003886</td>\n",
       "      <td>0.000239</td>\n",
       "      <td>0.572605</td>\n",
       "      <td>0.000286</td>\n",
       "      <td>0.047980</td>\n",
       "      <td>0.000660</td>\n",
       "      <td>...</td>\n",
       "      <td>0</td>\n",
       "      <td>0</td>\n",
       "      <td>1</td>\n",
       "      <td>0</td>\n",
       "      <td>0</td>\n",
       "      <td>0</td>\n",
       "      <td>0</td>\n",
       "      <td>0</td>\n",
       "      <td>0</td>\n",
       "      <td>10.65</td>\n",
       "    </tr>\n",
       "    <tr>\n",
       "      <th>1</th>\n",
       "      <td>0.067323</td>\n",
       "      <td>0.067323</td>\n",
       "      <td>0.067323</td>\n",
       "      <td>0.001616</td>\n",
       "      <td>0.001611</td>\n",
       "      <td>0.000000</td>\n",
       "      <td>0.807871</td>\n",
       "      <td>0.000323</td>\n",
       "      <td>0.054154</td>\n",
       "      <td>0.000027</td>\n",
       "      <td>...</td>\n",
       "      <td>0</td>\n",
       "      <td>0</td>\n",
       "      <td>0</td>\n",
       "      <td>0</td>\n",
       "      <td>0</td>\n",
       "      <td>0</td>\n",
       "      <td>0</td>\n",
       "      <td>0</td>\n",
       "      <td>0</td>\n",
       "      <td>15.27</td>\n",
       "    </tr>\n",
       "    <tr>\n",
       "      <th>2</th>\n",
       "      <td>0.152472</td>\n",
       "      <td>0.152472</td>\n",
       "      <td>0.152472</td>\n",
       "      <td>0.002287</td>\n",
       "      <td>0.005357</td>\n",
       "      <td>0.000635</td>\n",
       "      <td>0.778372</td>\n",
       "      <td>0.000762</td>\n",
       "      <td>0.127759</td>\n",
       "      <td>0.000554</td>\n",
       "      <td>...</td>\n",
       "      <td>0</td>\n",
       "      <td>0</td>\n",
       "      <td>1</td>\n",
       "      <td>0</td>\n",
       "      <td>0</td>\n",
       "      <td>0</td>\n",
       "      <td>0</td>\n",
       "      <td>0</td>\n",
       "      <td>0</td>\n",
       "      <td>15.96</td>\n",
       "    </tr>\n",
       "    <tr>\n",
       "      <th>3</th>\n",
       "      <td>0.155753</td>\n",
       "      <td>0.155753</td>\n",
       "      <td>0.155753</td>\n",
       "      <td>0.000561</td>\n",
       "      <td>0.005285</td>\n",
       "      <td>0.000156</td>\n",
       "      <td>0.766305</td>\n",
       "      <td>0.000187</td>\n",
       "      <td>0.031322</td>\n",
       "      <td>0.000312</td>\n",
       "      <td>...</td>\n",
       "      <td>0</td>\n",
       "      <td>0</td>\n",
       "      <td>1</td>\n",
       "      <td>0</td>\n",
       "      <td>0</td>\n",
       "      <td>0</td>\n",
       "      <td>0</td>\n",
       "      <td>0</td>\n",
       "      <td>0</td>\n",
       "      <td>13.49</td>\n",
       "    </tr>\n",
       "    <tr>\n",
       "      <th>4</th>\n",
       "      <td>0.032231</td>\n",
       "      <td>0.032231</td>\n",
       "      <td>0.032231</td>\n",
       "      <td>0.000645</td>\n",
       "      <td>0.000728</td>\n",
       "      <td>0.000011</td>\n",
       "      <td>0.859494</td>\n",
       "      <td>0.000129</td>\n",
       "      <td>0.021606</td>\n",
       "      <td>0.000193</td>\n",
       "      <td>...</td>\n",
       "      <td>0</td>\n",
       "      <td>0</td>\n",
       "      <td>0</td>\n",
       "      <td>0</td>\n",
       "      <td>0</td>\n",
       "      <td>0</td>\n",
       "      <td>0</td>\n",
       "      <td>0</td>\n",
       "      <td>0</td>\n",
       "      <td>12.69</td>\n",
       "    </tr>\n",
       "  </tbody>\n",
       "</table>\n",
       "<p>5 rows × 92 columns</p>\n",
       "</div>"
      ],
      "text/plain": [
       "   loan_amnt  funded_amnt  funded_amnt_inv      term  installment  emp_length  \\\n",
       "0   0.119293     0.119293         0.118696  0.000859     0.003886    0.000239   \n",
       "1   0.067323     0.067323         0.067323  0.001616     0.001611    0.000000   \n",
       "2   0.152472     0.152472         0.152472  0.002287     0.005357    0.000635   \n",
       "3   0.155753     0.155753         0.155753  0.000561     0.005285    0.000156   \n",
       "4   0.032231     0.032231         0.032231  0.000645     0.000728    0.000011   \n",
       "\n",
       "   annual_inc  issue_month  issue_year       dti    ...     \\\n",
       "0    0.572605     0.000286    0.047980  0.000660    ...      \n",
       "1    0.807871     0.000323    0.054154  0.000027    ...      \n",
       "2    0.778372     0.000762    0.127759  0.000554    ...      \n",
       "3    0.766305     0.000187    0.031322  0.000312    ...      \n",
       "4    0.859494     0.000129    0.021606  0.000193    ...      \n",
       "\n",
       "   loan_status_Does_not_meet_the_credit_policy_Status_Charged_Off  \\\n",
       "0                                                  0                \n",
       "1                                                  0                \n",
       "2                                                  0                \n",
       "3                                                  0                \n",
       "4                                                  0                \n",
       "\n",
       "   loan_status_Does_not_meet_the_credit_policy_Status_Fully_Paid  \\\n",
       "0                                                  0               \n",
       "1                                                  0               \n",
       "2                                                  0               \n",
       "3                                                  0               \n",
       "4                                                  0               \n",
       "\n",
       "   loan_status_Fully_Paid  loan_status_In_Grace_Period  loan_status_Issued  \\\n",
       "0                       1                            0                   0   \n",
       "1                       0                            0                   0   \n",
       "2                       1                            0                   0   \n",
       "3                       1                            0                   0   \n",
       "4                       0                            0                   0   \n",
       "\n",
       "   loan_status_Late_16_30_days  loan_status_Late_31_120_days  pymnt_plan_y  \\\n",
       "0                            0                             0             0   \n",
       "1                            0                             0             0   \n",
       "2                            0                             0             0   \n",
       "3                            0                             0             0   \n",
       "4                            0                             0             0   \n",
       "\n",
       "   initial_list_status_w  int_rate  \n",
       "0                      0     10.65  \n",
       "1                      0     15.27  \n",
       "2                      0     15.96  \n",
       "3                      0     13.49  \n",
       "4                      0     12.69  \n",
       "\n",
       "[5 rows x 92 columns]"
      ]
     },
     "execution_count": 14,
     "metadata": {},
     "output_type": "execute_result"
    }
   ],
   "source": [
    "data_linear = pd.read_csv('../Data/Mice Data/data_after_mice.csv')\n",
    "data.head()"
   ]
  },
  {
   "cell_type": "code",
   "execution_count": 15,
   "metadata": {},
   "outputs": [
    {
     "data": {
      "text/plain": [
       "['grade_C',\n",
       " 'grade_D',\n",
       " 'grade_E',\n",
       " 'grade_F',\n",
       " 'grade_G',\n",
       " 'total_rec_int',\n",
       " 'total_pymnt_inv',\n",
       " 'funded_amnt_inv',\n",
       " 'sub_grade_B5',\n",
       " 'sub_grade_C5',\n",
       " 'sub_grade_C4',\n",
       " 'sub_grade_C3',\n",
       " 'sub_grade_B4',\n",
       " 'sub_grade_D5']"
      ]
     },
     "execution_count": 15,
     "metadata": {},
     "output_type": "execute_result"
    }
   ],
   "source": [
    "predictors = ['grade_C','grade_D','grade_E',\n",
    "        'grade_F','grade_G','total_rec_int',\n",
    "        'total_pymnt_inv','funded_amnt_inv','sub_grade_B5',\n",
    "        'sub_grade_C5','sub_grade_C4','sub_grade_C3','sub_grade_B4','sub_grade_D5']\n",
    "\n",
    "predictors"
   ]
  },
  {
   "cell_type": "code",
   "execution_count": 16,
   "metadata": {
    "collapsed": true
   },
   "outputs": [],
   "source": [
    "response = ['int_rate']"
   ]
  },
  {
   "cell_type": "code",
   "execution_count": 17,
   "metadata": {
    "collapsed": true
   },
   "outputs": [],
   "source": [
    "X_train, X_test, y_train, y_test = train_test_split(data[predictors], data[response],\n",
    "                                                    train_size=0.6, test_size=0.4)\n",
    "\n",
    "\n",
    "X_train = X_train.values\n",
    "X_test = X_test.values\n",
    "y_train = y_train.values.ravel()\n",
    "y_test = y_test.values.ravel()"
   ]
  },
  {
   "cell_type": "code",
   "execution_count": 18,
   "metadata": {
    "collapsed": true
   },
   "outputs": [],
   "source": [
    "tpot_config = {'sklearn.tree.DecisionTreeClassifier': {},\n",
    "              'sklearn.neural_network.MLPClassifier': {'hidden_layer_sizes': [50, 25], \n",
    "                                                       'activation': ['relu', 'tanh', 'logistic', 'identity'],\n",
    "                                                      'batch_size': [10, 20, 40, 60, 80, 100], \n",
    "                                                       'solver': ['adam', 'sgd', 'lbfgs'], 'max_iter': [10, 50, 100],\n",
    "                                                      'batch_size': [10, 20, 40, 60, 80, 100]},\n",
    "              'sklearn.linear_model.LinearRegression': {}}\n"
   ]
  },
  {
   "cell_type": "code",
   "execution_count": 19,
   "metadata": {},
   "outputs": [
    {
     "data": {
      "application/vnd.jupyter.widget-view+json": {
       "model_id": "f248488b90374c74bd73b4572567053b",
       "version_major": 2,
       "version_minor": 0
      },
      "text/plain": [
       "A Jupyter Widget"
      ]
     },
     "metadata": {},
     "output_type": "display_data"
    },
    {
     "name": "stdout",
     "output_type": "stream",
     "text": [
      "Generation 1 - Current best internal CV score: -1.5233035049539687\n",
      "Generation 2 - Current best internal CV score: -1.5233035049539687\n",
      "Generation 3 - Current best internal CV score: -1.5233035049539687\n",
      "Generation 4 - Current best internal CV score: -1.5233027505419723\n",
      "Generation 5 - Current best internal CV score: -1.5233027505419723\n",
      "\n",
      "Best pipeline: LinearRegression(CombineDFs(CombineDFs(input_matrix, input_matrix), LinearRegression(input_matrix)))\n",
      "-1.5258951979649398\n"
     ]
    }
   ],
   "source": [
    "tpot = TPOTRegressor(generations=5, population_size=50, verbosity=2, config_dict = tpot_config)\n",
    "tpot.fit(X_train, y_train)\n",
    "print(tpot.score(X_test, y_test))\n",
    "tpot.export('/Users/akshatpant/Desktop/Rishika/tpot_lendingClub_pipeline_lite.py')"
   ]
  },
  {
   "cell_type": "code",
   "execution_count": null,
   "metadata": {
    "collapsed": true
   },
   "outputs": [],
   "source": []
  },
  {
   "cell_type": "markdown",
   "metadata": {
    "collapsed": true
   },
   "source": [
    "#### TPOT writes the optimized pipeline to an external python file specified in the tpot.export() function.\n",
    "#### The code is copied from that file and pasted below."
   ]
  },
  {
   "cell_type": "code",
   "execution_count": 20,
   "metadata": {
    "collapsed": true
   },
   "outputs": [],
   "source": [
    "import numpy as np\n",
    "import pandas as pd\n",
    "from sklearn.linear_model import LinearRegression\n",
    "from sklearn.model_selection import train_test_split\n",
    "from sklearn.pipeline import make_pipeline, make_union\n",
    "from tpot.builtins import StackingEstimator\n",
    "from sklearn.preprocessing import FunctionTransformer\n",
    "from copy import copy"
   ]
  },
  {
   "cell_type": "code",
   "execution_count": null,
   "metadata": {
    "collapsed": true
   },
   "outputs": [],
   "source": [
    "# NOTE: Make sure that the class is labeled 'target' in the data file\n",
    "#tpot_data = pd.read_csv('PATH/TO/DATA/FILE', sep='COLUMN_SEPARATOR', dtype=np.float64)\n",
    "# features = tpot_data.drop('target', axis=1).values\n",
    "# training_features, testing_features, training_target, testing_target = train_test_split(features, \n",
    "#                                                                                         tpot_data['target'].values, random_state=None)"
   ]
  },
  {
   "cell_type": "code",
   "execution_count": 21,
   "metadata": {
    "collapsed": true
   },
   "outputs": [],
   "source": [
    "X_train, X_test, y_train, y_test = train_test_split(data[predictors], data[response],\n",
    "                                                    train_size=0.6, test_size=0.4)\n",
    "\n",
    "\n",
    "X_train = X_train.values\n",
    "X_test = X_test.values\n",
    "y_train = y_train.values.ravel()\n",
    "y_test = y_test.values.ravel()"
   ]
  },
  {
   "cell_type": "code",
   "execution_count": 22,
   "metadata": {
    "collapsed": true
   },
   "outputs": [],
   "source": [
    "# Average CV score on the training set was:-1.5233027505419723\n",
    "exported_pipeline = make_pipeline(\n",
    "    make_union(\n",
    "        make_union(\n",
    "            FunctionTransformer(copy),\n",
    "            FunctionTransformer(copy)\n",
    "        ),\n",
    "        StackingEstimator(estimator=LinearRegression())\n",
    "    ),\n",
    "    LinearRegression()\n",
    ")"
   ]
  },
  {
   "cell_type": "code",
   "execution_count": 23,
   "metadata": {
    "collapsed": true
   },
   "outputs": [],
   "source": [
    "exported_pipeline.fit(X_train, y_train)\n",
    "results = exported_pipeline.predict(X_test)"
   ]
  },
  {
   "cell_type": "code",
   "execution_count": 24,
   "metadata": {},
   "outputs": [
    {
     "data": {
      "text/plain": [
       "8.551144342590337"
      ]
     },
     "execution_count": 24,
     "metadata": {},
     "output_type": "execute_result"
    }
   ],
   "source": [
    "mape = 0\n",
    "\n",
    "for i,j in zip(y_test, results):\n",
    "    mape += np.abs((i-j)/i)\n",
    "    \n",
    "mape = (mape*100)/y_test.shape[0]\n",
    "\n",
    "mape"
   ]
  },
  {
   "cell_type": "code",
   "execution_count": null,
   "metadata": {
    "collapsed": true
   },
   "outputs": [],
   "source": []
  },
  {
   "cell_type": "code",
   "execution_count": null,
   "metadata": {
    "collapsed": true
   },
   "outputs": [],
   "source": []
  },
  {
   "cell_type": "code",
   "execution_count": null,
   "metadata": {
    "collapsed": true
   },
   "outputs": [],
   "source": []
  },
  {
   "cell_type": "code",
   "execution_count": null,
   "metadata": {
    "collapsed": true
   },
   "outputs": [],
   "source": []
  }
 ],
 "metadata": {
  "kernelspec": {
   "display_name": "Python 3",
   "language": "python",
   "name": "python3"
  },
  "language_info": {
   "codemirror_mode": {
    "name": "ipython",
    "version": 3
   },
   "file_extension": ".py",
   "mimetype": "text/x-python",
   "name": "python",
   "nbconvert_exporter": "python",
   "pygments_lexer": "ipython3",
   "version": "3.7.1"
  }
 },
 "nbformat": 4,
 "nbformat_minor": 2
}
